{
 "cells": [
  {
   "cell_type": "markdown",
   "id": "31afbd0b-485d-4c1d-b22f-f6277c77f504",
   "metadata": {},
   "source": [
    "Note: for Jarvis Labs need to install the following packages:\n",
    "* pygame - `pip install -U pygame --user`"
   ]
  },
  {
   "cell_type": "markdown",
   "id": "0d91601b-3313-431d-b53e-e25d70b1b555",
   "metadata": {
    "tags": []
   },
   "source": [
    "# Deep Reinforcment Learning for Snake Game\n",
    "\n",
    "We want to train an agent to play Snake. The Snake starts as 3 squares long and has to move around a constrained space and eat rats. One rat appears randomly at a time. If the snake crashes into its own body or the walls, it dies. If it eats a rat, it scores a point and grows one square longer. \n",
    "\n",
    "We aim to train our agent to score highly in the game.\n",
    "\n",
    "We used several different approaches. Firstly, the way that the snake perceives it's environment might make a difference.\n",
    "\n",
    "The `get_observation` method of Agent class gives a ndarray (converted to tensor) representing the snakes perceived environment. We designed three versions. All are flat arrays with values of 0 or 1 representing False and True. All have 4 entries which represent whether the rat is ahead, behind, left or right of the snake (relative to the direction the snake is facing).\n",
    "* Simple. ndarry of shape (11,). 3 values representing if there is a fatal collision directly infront-of, left or right of the snakes head. 4 values to represent if the snake is facing up, down, left or right. 4 values representing relative position of rat.\n",
    "* Surroundings. ndarray of shape (29,). 25 values representing the squares in the 5x5 area around the snakes head: relative to the direction the snake is facing. Values are 1 if square is occupied by the snake's body or a wall, 0 otherwise. 4 values representing relative position of the rat.\n",
    "* Relative_Snake. ndarray of shape (12,). The first four values indicate whether any portion of the snake's body is ahead, behind, left of right from where the snake is facing. The hope is that it learns to steer away from it's own body to avoid collisions. The next four values represent an immediate collision ahead, behind, left or right of the snake. The last four values represent the relative position of the rat.\n",
    "\n",
    "In addition to this we have several approaches to learning the optimum policy:\n",
    "* Deep Q-Learning\n",
    "* Double Deep Q-Learning\n",
    "* Dueling Networks.\n",
    "\n",
    "Finally, with no real adjustment to the code, our representation of the environment is conjucive to curriculum learning: we can train the agent on smaller (easier) environments and then test it - even on zero shot basis - against the full size environment."
   ]
  },
  {
   "cell_type": "code",
   "execution_count": 1,
   "id": "c430badc",
   "metadata": {},
   "outputs": [
    {
     "name": "stdout",
     "output_type": "stream",
     "text": [
      "pygame 2.1.2 (SDL 2.0.16, Python 3.8.12)\n",
      "Hello from the pygame community. https://www.pygame.org/contribute.html\n"
     ]
    },
    {
     "name": "stderr",
     "output_type": "stream",
     "text": [
      "ALSA lib confmisc.c:767:(parse_card) cannot find card '0'\n",
      "ALSA lib conf.c:4732:(_snd_config_evaluate) function snd_func_card_driver returned error: No such file or directory\n",
      "ALSA lib confmisc.c:392:(snd_func_concat) error evaluating strings\n",
      "ALSA lib conf.c:4732:(_snd_config_evaluate) function snd_func_concat returned error: No such file or directory\n",
      "ALSA lib confmisc.c:1246:(snd_func_refer) error evaluating name\n",
      "ALSA lib conf.c:4732:(_snd_config_evaluate) function snd_func_refer returned error: No such file or directory\n",
      "ALSA lib conf.c:5220:(snd_config_expand) Evaluate error: No such file or directory\n",
      "ALSA lib pcm.c:2642:(snd_pcm_open_noupdate) Unknown PCM default\n"
     ]
    },
    {
     "ename": "ImportError",
     "evalue": "cannot import name 'clear_output' from 'IPython' (/opt/conda/lib/python3.8/site-packages/IPython/__init__.py)",
     "output_type": "error",
     "traceback": [
      "\u001b[0;31m---------------------------------------------------------------------------\u001b[0m",
      "\u001b[0;31mImportError\u001b[0m                               Traceback (most recent call last)",
      "Input \u001b[0;32mIn [1]\u001b[0m, in \u001b[0;36m<module>\u001b[0;34m\u001b[0m\n\u001b[1;32m      1\u001b[0m \u001b[38;5;28;01mfrom\u001b[39;00m \u001b[38;5;21;01mGame\u001b[39;00m \u001b[38;5;28;01mimport\u001b[39;00m SnakeGameAI\n\u001b[0;32m----> 2\u001b[0m \u001b[38;5;28;01mfrom\u001b[39;00m \u001b[38;5;21;01mhelper\u001b[39;00m \u001b[38;5;28;01mimport\u001b[39;00m training_loop\n",
      "File \u001b[0;32m~/Collins_Adib_INM707_CW/Advanced RL/helper.py:2\u001b[0m, in \u001b[0;36m<module>\u001b[0;34m\u001b[0m\n\u001b[1;32m      1\u001b[0m \u001b[38;5;28;01mimport\u001b[39;00m \u001b[38;5;21;01mmatplotlib\u001b[39;00m\u001b[38;5;21;01m.\u001b[39;00m\u001b[38;5;21;01mpyplot\u001b[39;00m \u001b[38;5;28;01mas\u001b[39;00m \u001b[38;5;21;01mplt\u001b[39;00m\n\u001b[0;32m----> 2\u001b[0m \u001b[38;5;28;01mfrom\u001b[39;00m \u001b[38;5;21;01mIPython\u001b[39;00m \u001b[38;5;28;01mimport\u001b[39;00m display, clear_output\n\u001b[1;32m      3\u001b[0m \u001b[38;5;28;01mfrom\u001b[39;00m \u001b[38;5;21;01mAgent\u001b[39;00m \u001b[38;5;28;01mimport\u001b[39;00m Agent\n\u001b[1;32m      4\u001b[0m \u001b[38;5;28;01mimport\u001b[39;00m \u001b[38;5;21;01mnumpy\u001b[39;00m \u001b[38;5;28;01mas\u001b[39;00m \u001b[38;5;21;01mnp\u001b[39;00m\n",
      "\u001b[0;31mImportError\u001b[0m: cannot import name 'clear_output' from 'IPython' (/opt/conda/lib/python3.8/site-packages/IPython/__init__.py)"
     ]
    }
   ],
   "source": [
    "from Game import SnakeGameAI\n",
    "from helper import training_loop"
   ]
  },
  {
   "cell_type": "markdown",
   "id": "86f2d995-aca5-4dc8-8ec8-71b984d54162",
   "metadata": {},
   "source": [
    "Set some global variables we will use for most games:"
   ]
  },
  {
   "cell_type": "code",
   "execution_count": null,
   "id": "e5109cac-efa6-45f2-8472-2416d56a00ad",
   "metadata": {},
   "outputs": [],
   "source": [
    "UI = False"
   ]
  },
  {
   "cell_type": "markdown",
   "id": "2db3ff92-72b9-44e4-938f-a9725aa1f01f",
   "metadata": {},
   "source": [
    "## Different approaches to observed environment\n",
    "\n",
    "With the basic DQN approach, we can see which representation of the environment looks most promising. We will train the snake for 1000 episodes for each representation and then evaluate over 20 episodes using the optimum learned policy. \n",
    "\n",
    "We will use this representation of the environment for comparison of different learning algorithms.\n",
    "\n",
    "### 1. get_observation_simple\n",
    "\n",
    "First train the model:"
   ]
  },
  {
   "cell_type": "code",
   "execution_count": null,
   "id": "706a2973-ed87-4068-b148-97be89c18e52",
   "metadata": {},
   "outputs": [],
   "source": [
    "MODEL_NAME = 'DQN_simple.pth'\n",
    "GET_OBS='simple'"
   ]
  },
  {
   "cell_type": "code",
   "execution_count": null,
   "id": "5a589984-9a23-4974-88bb-84cf00530102",
   "metadata": {},
   "outputs": [],
   "source": [
    "game = SnakeGameAI(width=640, height=480, UI=UI,\n",
    "                   window_title=\"DQN - {}\".format(GET_OBS), seed=42)\n",
    "agent, scores, mean_scores = training_loop(game=game,\n",
    "                                           model_name=MODEL_NAME,\n",
    "                                           load_model=False,\n",
    "                                           get_observation=GET_OBS,\n",
    "                                           greedy=True,\n",
    "                                           double_dqn=False,\n",
    "                                           num_episodes=1000\n",
    "                                          )\n",
    "agent.save_model(MODEL_NAME)"
   ]
  },
  {
   "cell_type": "markdown",
   "id": "9428b6b6-d1c9-4048-aa90-08440ba454fa",
   "metadata": {},
   "source": [
    "### Evaluation of get_observation_simple"
   ]
  },
  {
   "cell_type": "code",
   "execution_count": 5,
   "id": "c49aac7c-9b65-4747-9e0e-4aea86187b52",
   "metadata": {},
   "outputs": [
    {
     "data": {
      "text/plain": [
       "<Figure size 432x288 with 0 Axes>"
      ]
     },
     "metadata": {},
     "output_type": "display_data"
    },
    {
     "data": {
      "image/png": "[encoded data removed]",
      "text/plain": [
       "<Figure size 432x288 with 1 Axes>"
      ]
     },
     "metadata": {
      "needs_background": "light"
     },
     "output_type": "display_data"
    },
    {
     "name": "stdout",
     "output_type": "stream",
     "text": [
      "--------------------\n",
      "average score of simple observaton mode is 7.7\n"
     ]
    }
   ],
   "source": [
    "game = SnakeGameAI(width=640, height=480,\n",
    "                   window_title=\"DQN - {}\".format(GET_OBS), seed=1)\n",
    "\n",
    "agent, scores, mean_scores = training_loop(game=game,\n",
    "                                           model_name=MODEL_NAME,\n",
    "                                           load_model=True,\n",
    "                                           get_observation=GET_OBS,\n",
    "                                           greedy=False,\n",
    "                                           double_dqn=False,\n",
    "                                           num_episodes=20\n",
    "                                          )\n",
    "\n",
    "print('-'*20)\n",
    "print('average score of {} observaton mode is {}'.format(GET_OBS, mean_scores[-1]))"
   ]
  },
  {
   "cell_type": "markdown",
   "id": "f3a47c2a-eb30-4ce8-b304-f558efcab85e",
   "metadata": {
    "tags": []
   },
   "source": [
    "### 2. get_observation_surroundings\n",
    "\n",
    "First train the model:"
   ]
  },
  {
   "cell_type": "code",
   "execution_count": null,
   "id": "af8394de-fadb-4d6a-8986-abdc08888aa9",
   "metadata": {},
   "outputs": [],
   "source": [
    "MODEL_NAME = 'DQN_surroundings.pth'\n",
    "GET_OBS='surroundings'"
   ]
  },
  {
   "cell_type": "code",
   "execution_count": null,
   "id": "bcabe39b-d65f-49d7-a4b1-7ce86f0dc60b",
   "metadata": {},
   "outputs": [],
   "source": [
    "game = SnakeGameAI(width=640, height=480,\n",
    "                   window_title=\"DQN - {}\".format(GET_OBS), seed=42)\n",
    "agent, scores, mean_scores = training_loop(game=game,\n",
    "                                           model_name=MODEL_NAME,\n",
    "                                           load_model=False,\n",
    "                                           get_observation=GET_OBS,\n",
    "                                           greedy=True,\n",
    "                                           double_dqn=False,\n",
    "                                           num_episodes=1000\n",
    "                                          )\n",
    "agent.save_model(MODEL_NAME)"
   ]
  },
  {
   "cell_type": "markdown",
   "id": "f9bd7334-26ad-4931-8d84-c27a83991c08",
   "metadata": {},
   "source": [
    "### Evaluation of get_observation_surroundings"
   ]
  },
  {
   "cell_type": "code",
   "execution_count": null,
   "id": "d784c416-8871-4cb8-9545-f58ae1bba579",
   "metadata": {},
   "outputs": [],
   "source": [
    "game = SnakeGameAI(width=640, height=480,\n",
    "                   window_title=\"DQN - {}\".format(GET_OBS), seed=1)\n",
    "\n",
    "agent, scores, mean_scores = training_loop(game=game,\n",
    "                                           model_name=MODEL_NAME,\n",
    "                                           load_model=True,\n",
    "                                           get_observation=GET_OBS,\n",
    "                                           greedy=False,\n",
    "                                           double_dqn=False,\n",
    "                                           num_episodes=20\n",
    "                                          )\n",
    "\n",
    "print('average score of {} observation mode is {}'.format(GET_OBS, mean_scores[-1]))"
   ]
  },
  {
   "cell_type": "markdown",
   "id": "c9dac801-5b69-42fb-8c71-54502bf59495",
   "metadata": {
    "tags": []
   },
   "source": [
    "### 3. get_observation_relative_snake\n",
    "\n",
    "First train the model:"
   ]
  },
  {
   "cell_type": "code",
   "execution_count": null,
   "id": "f62310e6-082d-4685-86b7-2678c4d122ed",
   "metadata": {},
   "outputs": [],
   "source": [
    "MODEL_NAME = 'DQN_relative_snake.pth'\n",
    "GET_OBS='relative_snake'"
   ]
  },
  {
   "cell_type": "code",
   "execution_count": null,
   "id": "d536c693-e7c3-4ac0-b714-9192a4b3ee35",
   "metadata": {},
   "outputs": [],
   "source": [
    "game = SnakeGameAI(width=640, height=480,\n",
    "                   window_title=\"DQN - {}\".format(GET_OBS), seed=42)\n",
    "agent, scores, mean_scores = training_loop(game=game,\n",
    "                                           model_name=MODEL_NAME,\n",
    "                                           load_model=False,\n",
    "                                           get_observation=GET_OBS,\n",
    "                                           greedy=True,\n",
    "                                           double_dqn=False,\n",
    "                                           num_episodes=1000\n",
    "                                          )\n",
    "agent.save_model(MODEL_NAME)"
   ]
  },
  {
   "cell_type": "markdown",
   "id": "06492f69-5e94-4326-8862-8c8e4d171e40",
   "metadata": {
    "tags": []
   },
   "source": [
    "### Evaluation of get_observation_simple"
   ]
  },
  {
   "cell_type": "code",
   "execution_count": null,
   "id": "32703ede-51d7-4395-b211-8b9317ad4282",
   "metadata": {},
   "outputs": [],
   "source": [
    "game = SnakeGameAI(width=640, height=480,\n",
    "                   window_title=\"DQN - {}\".format(GET_OBS), seed=1)\n",
    "\n",
    "agent, scores, mean_scores = training_loop(game=game,\n",
    "                                           model_name=MODEL_NAME,\n",
    "                                           load_model=True,\n",
    "                                           get_observation=GET_OBS,\n",
    "                                           greedy=False,\n",
    "                                           double_dqn=False,\n",
    "                                           num_episodes=20\n",
    "                                          )\n",
    "\n",
    "print('average score of {} observaiton mode is {}'.format(GET_OBS, mean_scores[-1]))"
   ]
  },
  {
   "cell_type": "markdown",
   "id": "5ac17061-e846-4910-a0e2-28ab33ef93d6",
   "metadata": {
    "tags": []
   },
   "source": [
    "### Test Dueling Network"
   ]
  },
  {
   "cell_type": "code",
   "execution_count": null,
   "id": "43eae7c4-c2e7-480f-b045-e44c8a16a55b",
   "metadata": {},
   "outputs": [],
   "source": [
    "MODEL_NAME = 'Dueling_QN_relative_snake.pth'\n",
    "GET_OBS='relative_snake'\n",
    "DOUBLE_DQN=False,\n",
    "DUELING_DQN=True"
   ]
  },
  {
   "cell_type": "code",
   "execution_count": null,
   "id": "f0a7e6e4-f8bb-4264-a9f4-f1e208e2079f",
   "metadata": {},
   "outputs": [],
   "source": [
    "game = SnakeGameAI(width=640, height=480,\n",
    "                   window_title=\"DQN - {}\".format(GET_OBS), seed=42)\n",
    "agent, scores, mean_scores = training_loop(game=game,\n",
    "                                           model_name=MODEL_NAME,\n",
    "                                           load_model=False,\n",
    "                                           get_observation=GET_OBS,\n",
    "                                           greedy=True,\n",
    "                                           double_dqn=DOUBLE_DQN,\n",
    "                                           dueling_dqn=DUELING_DQN,\n",
    "                                           num_episodes=10\n",
    "                                          )\n",
    "agent.save_model(MODEL_NAME)"
   ]
  },
  {
   "cell_type": "code",
   "execution_count": null,
   "id": "b91de102-81a7-4d8f-ad41-832aea8e4e60",
   "metadata": {},
   "outputs": [],
   "source": []
  }
 ],
 "metadata": {
  "kernelspec": {
   "display_name": "Python 3 (ipykernel)",
   "language": "python",
   "name": "python3"
  },
  "language_info": {
   "codemirror_mode": {
    "name": "ipython",
    "version": 3
   },
   "file_extension": ".py",
   "mimetype": "text/x-python",
   "name": "python",
   "nbconvert_exporter": "python",
   "pygments_lexer": "ipython3",
   "version": "3.8.12"
  }
 },
 "nbformat": 4,
 "nbformat_minor": 5
}

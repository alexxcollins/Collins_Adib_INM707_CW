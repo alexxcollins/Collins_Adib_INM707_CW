{
 "cells": [
  {
   "cell_type": "markdown",
   "id": "31afbd0b-485d-4c1d-b22f-f6277c77f504",
   "metadata": {},
   "source": [
    "Note: for Jarvis Labs need to install the following packages:\n",
    "* pygame - `pip install -U pygame --user`"
   ]
  },
  {
   "cell_type": "markdown",
   "id": "0d91601b-3313-431d-b53e-e25d70b1b555",
   "metadata": {
    "tags": []
   },
   "source": [
    "# Deep Reinforcment Learning for Snake Game\n",
    "\n",
    "We want to train an agent to play Snake. The Snake starts as 3 squares long and has to move around a constrained space and eat rats. One rat appears randomly at a time. If the snake crashes into its own body or the walls, it dies. If it eats a rat, it scores a point and grows one square longer. \n",
    "\n",
    "We aim to train our agent to score highly in the game.\n",
    "\n",
    "We used several different approaches. Firstly, the way that the snake perceives it's environment might make a difference.\n",
    "\n",
    "The `get_observation` method of Agent class gives a ndarray (converted to tensor) representing the snakes perceived environment. We designed three versions. All are flat arrays with values of 0 or 1 representing False and True. All have 4 entries which represent whether the rat is ahead, behind, left or right of the snake (relative to the direction the snake is facing).\n",
    "* Simple. ndarry of shape (11,). 3 values representing if there is a fatal collision directly infront-of, left or right of the snakes head. 4 values to represent if the snake is facing up, down, left or right. 4 values representing relative position of rat.\n",
    "* Surroundings. ndarray of shape (29,). 25 values representing the squares in the 5x5 area around the snakes head: relative to the direction the snake is facing. Values are 1 if square is occupied by the snake's body or a wall, 0 otherwise. 4 values representing relative position of the rat.\n",
    "* Relative_Snake. ndarray of shape (12,). The first four values indicate whether any portion of the snake's body is ahead, behind, left of right from where the snake is facing. The hope is that it learns to steer away from it's own body to avoid collisions. The next four values represent an immediate collision ahead, behind, left or right of the snake. The last four values represent the relative position of the rat.\n",
    "\n",
    "In addition to this we have several approaches to learning the optimum policy:\n",
    "* Deep Q-Learning\n",
    "* Double Deep Q-Learning\n",
    "* Dueling Networks.\n",
    "\n",
    "Finally, with no real adjustment to the code, our representation of the environment is conjucive to curriculum learning: we can train the agent on smaller (easier) environments and then test it - even on zero shot basis - against the full size environment."
   ]
  },
  {
   "cell_type": "code",
   "execution_count": 1,
   "id": "c430badc",
   "metadata": {},
   "outputs": [
    {
     "name": "stdout",
     "output_type": "stream",
     "text": [
      "pygame 2.1.2 (SDL 2.0.16, Python 3.8.12)\n",
      "Hello from the pygame community. https://www.pygame.org/contribute.html\n"
     ]
    },
    {
     "name": "stderr",
     "output_type": "stream",
     "text": [
      "ALSA lib confmisc.c:767:(parse_card) cannot find card '0'\n",
      "ALSA lib conf.c:4732:(_snd_config_evaluate) function snd_func_card_driver returned error: No such file or directory\n",
      "ALSA lib confmisc.c:392:(snd_func_concat) error evaluating strings\n",
      "ALSA lib conf.c:4732:(_snd_config_evaluate) function snd_func_concat returned error: No such file or directory\n",
      "ALSA lib confmisc.c:1246:(snd_func_refer) error evaluating name\n",
      "ALSA lib conf.c:4732:(_snd_config_evaluate) function snd_func_refer returned error: No such file or directory\n",
      "ALSA lib conf.c:5220:(snd_config_expand) Evaluate error: No such file or directory\n",
      "ALSA lib pcm.c:2642:(snd_pcm_open_noupdate) Unknown PCM default\n"
     ]
    }
   ],
   "source": [
    "from Game import SnakeGameAI\n",
    "from helper import training_loop, plot, ax_plot\n",
    "from collections import namedtuple\n",
    "from IPython import display\n",
    "from matplotlib import pyplot as plt\n",
    "import numpy as np"
   ]
  },
  {
   "cell_type": "markdown",
   "id": "86f2d995-aca5-4dc8-8ec8-71b984d54162",
   "metadata": {},
   "source": [
    "Set some global variables we will use for most games:"
   ]
  },
  {
   "cell_type": "code",
   "execution_count": 2,
   "id": "e5109cac-efa6-45f2-8472-2416d56a00ad",
   "metadata": {},
   "outputs": [],
   "source": [
    "UI = False\n",
    "TRAINING_EPISODES = 1500\n",
    "EVALUATION_EPISODES = 30\n",
    "DQN_Style = {'DQN': {'double_dqn': False, 'dueling_dqn': False},\n",
    "             'Double_DQN': {'double_dqn': True, 'dueling_dqn': False},\n",
    "             'Dueling_DQN': {'double_dqn': False, 'dueling_dqn': True},\n",
    "             'Double_Dueling_DQN': {'double_dqn': True, 'dueling_dqn': True}}\n",
    "Output = namedtuple('Output', ['agent', 'scores', 'mean_scores'])"
   ]
  },
  {
   "cell_type": "markdown",
   "id": "23397247-d748-4c67-bb8b-2476705222e9",
   "metadata": {},
   "source": [
    "Charts below just help us calibrate epsilon greedy parameters. We have hardcoded the epsilon floor of 0.05. Starting epsilon and epsilon decay for epsilon > or < 0.5 can be set. Epsilon is updated after each episode. We choose epsilon to decay from a high number to a low number over the course of training. The 200 and 250 episode cases are for curriculum learning, where the model has already been trained a bit, so epsilon starts lower."
   ]
  },
  {
   "cell_type": "code",
   "execution_count": 3,
   "id": "9015dc7c-954f-4853-bb1c-30cb6a1a49c6",
   "metadata": {},
   "outputs": [
    {
     "data": {
      "image/png": "[encoded data removed]",
      "text/plain": [
       "<Figure size 720x144 with 4 Axes>"
      ]
     },
     "metadata": {
      "needs_background": "light"
     },
     "output_type": "display_data"
    }
   ],
   "source": [
    "def epsilon_decay(steps, e, e_decay, min_e=0.05):\n",
    "    a = np.ones(steps) * e_decay[0]\n",
    "    b = np.ones(steps) * e_decay[1]\n",
    "    aa = np.cumproduct(a) * e\n",
    "    bb = np.cumproduct(b) * e\n",
    "    thresh_idx = np.argmax(aa < 0.5)\n",
    "    eps = np.where(aa > 0.5, aa,\n",
    "                   aa[thresh_idx] / bb[thresh_idx] * bb)\n",
    "    eps = np.where(eps > min_e, eps, min_e)\n",
    "    return eps\n",
    "\n",
    "fig, axs = plt.subplots(1,4,sharey=True, figsize=(10,2))\n",
    "\n",
    "eps_list = []\n",
    "eps_list.append(epsilon_decay(150, 0.9, [0.99, 0.98]))\n",
    "eps_list.append(epsilon_decay(200, 0.8, [0.993, 0.987]))\n",
    "eps_list.append(epsilon_decay(250, 0.7, [0.994, 0.992]))\n",
    "eps_list.append(epsilon_decay(1500, 0.9, [0.999, 0.998]))\n",
    "steps_list = [150, 200, 250, 1500]\n",
    "\n",
    "for i, ax in enumerate(axs.flatten()):\n",
    "    ax.plot(eps_list[i])\n",
    "    ax.set_title(\"{} episodes\\nmin e = {:.2f}\"\n",
    "                 .format(steps_list[i], eps_list[i][-1]))\n",
    "                 \n",
    "plt.show()"
   ]
  },
  {
   "cell_type": "markdown",
   "id": "2db3ff92-72b9-44e4-938f-a9725aa1f01f",
   "metadata": {},
   "source": [
    "## Different approaches to observed environment\n",
    "\n",
    "With the basic DQN approach, we can see which representation of the environment looks most promising. We will train the snake for 1000 episodes for each representation and then evaluate over 20 episodes using the optimum learned policy. \n",
    "\n",
    "We will use this representation of the environment for comparison of different learning algorithms.\n",
    "\n",
    "### 1. get_observation_simple\n",
    "\n",
    "First train the model:"
   ]
  },
  {
   "cell_type": "code",
   "execution_count": 4,
   "id": "706a2973-ed87-4068-b148-97be89c18e52",
   "metadata": {},
   "outputs": [],
   "source": [
    "MODEL_NAME = '_simple.pth'\n",
    "SAVE_NAME = '_simple_best.pth'\n",
    "GET_OBS='simple'\n",
    "simple_output_dict = {}"
   ]
  },
  {
   "cell_type": "code",
   "execution_count": null,
   "id": "5a589984-9a23-4974-88bb-84cf00530102",
   "metadata": {},
   "outputs": [
    {
     "name": "stdout",
     "output_type": "stream",
     "text": [
      "Progress: [##################--] 89.7%\n",
      "Double_Dueling_DQN_simple; episode: 1345\n"
     ]
    }
   ],
   "source": [
    "for key, val in DQN_Style.items():\n",
    "    game_kwargs = {'width': 640, 'height': 480, 'UI': UI,\n",
    "                    'window_title': \"{} - {}\".format(key, GET_OBS)}\n",
    "\n",
    "    agent, scores, mean_scores = training_loop(game_kwargs=game_kwargs,\n",
    "                                               model_name=key + MODEL_NAME,\n",
    "                                               load_model=False,\n",
    "                                               save_name=key + SAVE_NAME,\n",
    "                                               episode_save = 350,\n",
    "                                               get_observation=GET_OBS,\n",
    "                                               greedy=True,\n",
    "                                               **val, # dict for kwargs\n",
    "                                               num_episodes=TRAINING_EPISODES,\n",
    "                                               plot_update_at_end=True\n",
    "                                              )\n",
    "    agent.save_model(key + MODEL_NAME)\n",
    "    simple_output_dict[key] = Output(agent, scores, mean_scores)\n",
    "\n",
    "display.clear_output()"
   ]
  },
  {
   "cell_type": "markdown",
   "id": "b69a1567-f883-46f7-9cb3-a73525e246ac",
   "metadata": {
    "tags": []
   },
   "source": [
    "### 2. get_observation_surroundings\n",
    "\n",
    "First train the model:"
   ]
  },
  {
   "cell_type": "code",
   "execution_count": null,
   "id": "af8394de-fadb-4d6a-8986-abdc08888aa9",
   "metadata": {},
   "outputs": [],
   "source": [
    "MODEL_NAME = '_surroundings.pth'\n",
    "SAVE_NAME = '_surroundings_best.pth'\n",
    "GET_OBS='surroundings'\n",
    "surroundings_output_dict = {}"
   ]
  },
  {
   "cell_type": "code",
   "execution_count": null,
   "id": "bcabe39b-d65f-49d7-a4b1-7ce86f0dc60b",
   "metadata": {},
   "outputs": [],
   "source": [
    "for key, val in DQN_Style.items():\n",
    "    game_kwargs = {'width': 640, 'height': 480, 'UI': UI,\n",
    "                    'window_title': \"{} - {}\".format(key, GET_OBS)}\n",
    "\n",
    "    agent, scores, mean_scores = training_loop(game_kwargs=game_kwargs,\n",
    "                                               model_name=key + MODEL_NAME,\n",
    "                                               load_model=False,\n",
    "                                               save_name=key + SAVE_NAME,\n",
    "                                               episode_save = 350,\n",
    "                                               get_observation=GET_OBS,\n",
    "                                               greedy=True,\n",
    "                                               **val, # dict for kwargs\n",
    "                                               num_episodes=TRAINING_EPISODES,\n",
    "                                               plot_update_at_end=True\n",
    "                                              )\n",
    "    agent.save_model(key + MODEL_NAME)\n",
    "    surroundings_output_dict[key] = Output(agent, scores, mean_scores)\n",
    "\n",
    "display.clear_output()"
   ]
  },
  {
   "cell_type": "markdown",
   "id": "a717592c-556f-44dc-995d-f6db5216902d",
   "metadata": {
    "tags": []
   },
   "source": [
    "### 3. get_observation_relative_snake\n",
    "\n",
    "First train the model:"
   ]
  },
  {
   "cell_type": "code",
   "execution_count": null,
   "id": "f62310e6-082d-4685-86b7-2678c4d122ed",
   "metadata": {},
   "outputs": [],
   "source": [
    "MODEL_NAME = '_relative.pth'\n",
    "SAVE_NAME = '_relative_best.pth'\n",
    "GET_OBS='relative_snake'\n",
    "relative_output_dict = {}"
   ]
  },
  {
   "cell_type": "code",
   "execution_count": null,
   "id": "d536c693-e7c3-4ac0-b714-9192a4b3ee35",
   "metadata": {},
   "outputs": [],
   "source": [
    "for key, val in DQN_Style.items():\n",
    "    game_kwargs = {'width': 640, 'height': 480, 'UI': UI,\n",
    "                    'window_title': \"{} - {}\".format(key, GET_OBS)}\n",
    "\n",
    "    agent, scores, mean_scores = training_loop(game_kwargs=game_kwargs,\n",
    "                                               model_name=key + MODEL_NAME,\n",
    "                                               load_model=False,\n",
    "                                               save_name=key + SAVE_NAME,\n",
    "                                               episode_save = 350,\n",
    "                                               get_observation=GET_OBS,\n",
    "                                               greedy=True,\n",
    "                                               **val, # dict for kwargs\n",
    "                                               num_episodes=TRAINING_EPISODES,\n",
    "                                               plot_update_at_end=True\n",
    "                                              )\n",
    "    agent.save_model(key + MODEL_NAME)\n",
    "    relative_output_dict[key] = Output(agent, scores, mean_scores)\n",
    "\n",
    "display.clear_output()"
   ]
  },
  {
   "cell_type": "markdown",
   "id": "999307e1-165d-4434-8964-83749060474b",
   "metadata": {},
   "source": [
    "### Display results of training\n",
    "\n",
    "Score of individual episodes in blue, moving average in green, average for episodes plays so far in orange."
   ]
  },
  {
   "cell_type": "code",
   "execution_count": null,
   "id": "67dc84a3-a6c1-4138-95ca-95de390b156d",
   "metadata": {},
   "outputs": [],
   "source": [
    "fig, axs = plt.subplots(3, 4, sharex=True, sharey=True, figsize=(12,8))\n",
    "outputs = {'simple': simple_output_dict,\n",
    "          'surroundings': surroundings_output_dict,\n",
    "          'relative_snake': relative_output_dict}\n",
    "\n",
    "output_list = []\n",
    "for out_key, out_val in outputs.items():\n",
    "    for key, val in out_val.items():\n",
    "        output_list.append(['observations: {}\\nRL algorithm: {}'.format(out_key, key),\n",
    "                            val.scores, val.mean_scores, val.agent.epsilon])\n",
    "\n",
    "for i, ax in enumerate(axs.flatten()):\n",
    "    ax_plot(ax, output_list[i][1], output_list[i][2], title=output_list[i][0])\n",
    "fig.tight_layout()"
   ]
  },
  {
   "cell_type": "markdown",
   "id": "f589f08b-6e05-4752-8204-5dcba477b324",
   "metadata": {
    "tags": []
   },
   "source": [
    "### Evaluation of algorithm performance\n",
    "\n",
    "We run 20 episodes of each algorithm and observation combination, with each making the optimal policy choice (no randomness).\n",
    "\n",
    "We se same random seed for each game so that evaluations are comparible."
   ]
  },
  {
   "cell_type": "code",
   "execution_count": null,
   "id": "55c7c933-3711-4313-bfa0-2ff21f837812",
   "metadata": {},
   "outputs": [],
   "source": [
    "eval_dict = {}\n",
    "for out_key in ['simple', 'surroundings', 'relative']:\n",
    "    for key, val in DQN_Style.items():\n",
    "        game_kwargs = {'width': 640, 'height': 480, 'UI': UI,\n",
    "                       'window_title': \"{} - {}\".format(key, out_key)\n",
    "                      }\n",
    "        agent, scores, mean_scores = training_loop(game_kwargs=game_kwargs,\n",
    "                                                   model_name='{}_{}.pth'.format(key, out_key),\n",
    "                                                   load_model=True,\n",
    "                                                   get_observation=out_key,\n",
    "                                                   greedy=False,\n",
    "                                                   **val, # dict for kwargs\n",
    "                                                   num_episodes=EVALUATION_EPISODES,\n",
    "                                                   plot_update_at_end=True,\n",
    "                                                   random_seed=1\n",
    "                                                  )\n",
    "        eval_dict[\"{} - {}\".format(key, out_key)] = Output(agent, scores, mean_scores)\n",
    "        \n",
    "display.clear_output(wait=True)\n",
    "        \n",
    "fig, axs = plt.subplots(3, 4, sharex=True, sharey=True, figsize=(12,8))\n",
    "\n",
    "for i, ax in enumerate(axs.flatten()):\n",
    "    scores = list(eval_dict.values())[i].scores\n",
    "    mean_scores = list(eval_dict.values())[i].mean_scores\n",
    "    title = list(eval_dict.keys())[i]\n",
    "    \n",
    "    ax_plot(ax, scores, mean_scores, window=None, title=title)\n",
    "    \n",
    "fig.tight_layout()"
   ]
  },
  {
   "cell_type": "markdown",
   "id": "fb3e5f6a-fdfe-42be-87ee-a7fcf2a31075",
   "metadata": {
    "tags": []
   },
   "source": [
    "## Curriculum Learning\n",
    "\n",
    "### First stage\n",
    "\n",
    "First we train the agent on a really small grid - equivalent to 6 x 6 blocks.\n",
    "\n",
    "The intuition is that the snake will spend more time learning to avoid walls, and also be more likley to randomly eat a rat and discover that it's worth finding the rat when the grid is smaller.\n",
    "\n",
    "### Second stage\n",
    "\n",
    "Now we train the agent on a slightly larger grid: 10 x 10 blocks.\n",
    "\n",
    "The grid is large enough the the snake's observation field (5 x 5 blocks surrounding snakes head) is always missing quite a bit of information about the full environment. The snake should train to factor in the relative lack of information."
   ]
  },
  {
   "cell_type": "code",
   "execution_count": null,
   "id": "b2b780ba-bb05-46e1-a7c0-66fdd2b73d9f",
   "metadata": {
    "tags": []
   },
   "outputs": [],
   "source": [
    "UI = False\n",
    "TRAINING_EPISODES = 150\n",
    "EVAL_EPISODES = 30\n",
    "GET_OBS = 'surroundings'\n",
    "DOUBLE_DQN = False\n",
    "DUELING_DQN = True\n",
    "MODEL_NAME = 'small_grid.pth'\n",
    "EPS_KW = {'epsilon': 0.9, 'epsilon_decay':[0.99, 0.98]}\n",
    "curriculum_output = {}\n",
    "\n",
    "game_kwargs = {'width': 120, 'height': 120, 'UI': UI,\n",
    "                'window_title': \"{}\".format(GET_OBS)}\n",
    "\n",
    "agent, scores, mean_scores = training_loop(game_kwargs=game_kwargs,\n",
    "                                           model_name=MODEL_NAME,\n",
    "                                           load_model=False,\n",
    "                                           get_observation=GET_OBS,\n",
    "                                           greedy=True,\n",
    "                                           epsilon_kwargs=EPS_KW,\n",
    "                                           double_dqn=DOUBLE_DQN,\n",
    "                                           dueling_dqn=DUELING_DQN,\n",
    "                                           num_episodes=TRAINING_EPISODES,\n",
    "                                           plot_update_at_end=True\n",
    "                                          )\n",
    "agent.save_model(MODEL_NAME)\n",
    "curriculum_output[MODEL_NAME.split(',')[0]] = Output(agent, scores, mean_scores)\n",
    "\n",
    "################\n",
    "# SECOND STAGE:\n",
    "################\n",
    "\n",
    "\n",
    "TRAINING_EPISODES = 200\n",
    "LOAD_NAME = 'small_grid.pth'\n",
    "SAVE_NAME = 'medium_grid.pth'\n",
    "EPS_KW = {'epsilon': 0.9, 'epsilon_decay':[0.992, 0.985]}\n",
    "\n",
    "game_kwargs = {'width': 200, 'height': 200, 'UI': UI,\n",
    "                'window_title': \"{}\".format(GET_OBS)}\n",
    "\n",
    "agent, scores, mean_scores = training_loop(game_kwargs=game_kwargs,\n",
    "                                           model_name=LOAD_NAME,\n",
    "                                           load_model=True,\n",
    "                                           get_observation=GET_OBS,\n",
    "                                           greedy=True,\n",
    "                                           epsilon_kwargs=EPS_KW,\n",
    "                                           double_dqn=DOUBLE_DQN,\n",
    "                                           dueling_dqn=DUELING_DQN,\n",
    "                                           num_episodes=TRAINING_EPISODES,\n",
    "                                           plot_update_at_end=True\n",
    "                                          )\n",
    "agent.save_model(SAVE_NAME)\n",
    "curriculum_output[SAVE_NAME.split(',')[0]] = Output(agent, scores, mean_scores)\n",
    "\n",
    "display.clear_output()\n",
    "\n",
    "keys = list(curriculum_output.keys())\n",
    "titles = ['small grid training', 'medium grid training']\n",
    "fig, axs = plt.subplots(1, 2, sharey=True, figsize=(8, 3))\n",
    "\n",
    "for i, ax in enumerate(axs.flatten()):\n",
    "    ax_plot(ax, curriculum_output[keys[i]].scores,\n",
    "            curriculum_output[keys[i]].mean_scores,\n",
    "            title=titles[i])\n",
    "fig.tight_layout()\n",
    "plt.show()"
   ]
  },
  {
   "cell_type": "markdown",
   "id": "13b36b50-c523-42e6-a09e-d53a5da45fd4",
   "metadata": {},
   "source": [
    "### Zero shot\n",
    "\n",
    "Evaluate the model trained so far on the full-sized grid. How does it compete with the other agents that have trained for 1500 episodes on the full-sized grid?\n",
    "\n",
    "It does! The agent outperforms all previous agents despite having only trained for 300 episodes on very simple problems."
   ]
  },
  {
   "cell_type": "code",
   "execution_count": null,
   "id": "966bfa56-2ce0-4169-b27c-9f718e71450f",
   "metadata": {
    "tags": []
   },
   "outputs": [],
   "source": [
    "# using new obserations\n",
    "LOAD_NAME = 'medium_grid.pth'\n",
    "# SAVE_NAME = 'medium_grid.pth'\n",
    "# EPS_KW = {'epsilon': 0.9, 'epsilon_decay':[0.992, 0.985]}\n",
    "\n",
    "game_kwargs = {'width': 640, 'height': 480, 'UI': UI,\n",
    "                'window_title': \"{}\".format(GET_OBS)}\n",
    "\n",
    "agent, scores, mean_scores = training_loop(game_kwargs=game_kwargs,\n",
    "                                           model_name=LOAD_NAME,\n",
    "                                           load_model=True,\n",
    "                                           get_observation=GET_OBS,\n",
    "                                           greedy=False,\n",
    "                                           # epsilon_kwargs=EPS_KW,\n",
    "                                           double_dqn=DOUBLE_DQN,\n",
    "                                           dueling_dqn=DUELING_DQN,\n",
    "                                           num_episodes=EVAL_EPISODES,\n",
    "                                           plot_update_at_end=True,\n",
    "                                           random_seed=1\n",
    "                                          )\n",
    "\n",
    "zero_shot_output = Output(agent, scores, mean_scores)"
   ]
  },
  {
   "cell_type": "markdown",
   "id": "58c2954d-15d3-4cd6-b4e0-8446d4ef5a23",
   "metadata": {},
   "source": [
    "### Third round: train on full-sized grid, epsilon starts at 0.7"
   ]
  },
  {
   "cell_type": "code",
   "execution_count": null,
   "id": "e1b1eb8b-8b99-4d28-8fd9-a674a8aa0acb",
   "metadata": {},
   "outputs": [],
   "source": [
    "TRAINING_EPISODES = 250\n",
    "LOAD_NAME = 'medium_grid.pth'\n",
    "SAVE_NAME = 'full_gridv2.pth'\n",
    "EPS_KW = {'epsilon': 0.7, 'epsilon_decay':[0.994, 0.992]}\n",
    "\n",
    "game_kwargs = {'width': 640, 'height': 480, 'UI': UI,\n",
    "                'window_title': \"{}\".format(GET_OBS)}\n",
    "\n",
    "agent, scores, mean_scores = training_loop(game_kwargs=game_kwargs,\n",
    "                                           model_name=LOAD_NAME,\n",
    "                                           load_model=True,\n",
    "                                           get_observation=GET_OBS,\n",
    "                                           greedy=True,\n",
    "                                           epsilon_kwargs=EPS_KW,\n",
    "                                           double_dqn=DOUBLE_DQN,\n",
    "                                           dueling_dqn=DUELING_DQN,\n",
    "                                           num_episodes=TRAINING_EPISODES,\n",
    "                                           plot_update_at_end=True\n",
    "                                          )\n",
    "agent.save_model(SAVE_NAME)\n",
    "curriculum_output[SAVE_NAME.split(',')[0]] = Output(agent, scores, mean_scores)"
   ]
  },
  {
   "cell_type": "markdown",
   "id": "06571c78-0f03-4990-8778-8d49386f7958",
   "metadata": {},
   "source": [
    "### Evaluate: full-sized grid, third round, epsilon = 0.7"
   ]
  },
  {
   "cell_type": "code",
   "execution_count": null,
   "id": "c01e41ee-c4df-455b-8eef-6da1049e3d2a",
   "metadata": {
    "tags": []
   },
   "outputs": [],
   "source": [
    "# using new obserations\n",
    "LOAD_NAME = 'full_gridv2.pth'\n",
    "# SAVE_NAME = 'medium_grid.pth'\n",
    "# EPS_KW = {'epsilon': 0.9, 'epsilon_decay':[0.992, 0.985]}\n",
    "\n",
    "game_kwargs = {'width': 640, 'height': 480, 'UI': UI,\n",
    "                'window_title': \"{}\".format(GET_OBS)}\n",
    "\n",
    "agent, scores, mean_scores = training_loop(game_kwargs=game_kwargs,\n",
    "                                           model_name=LOAD_NAME,\n",
    "                                           load_model=True,\n",
    "                                           get_observation=GET_OBS,\n",
    "                                           greedy=False,\n",
    "                                           # epsilon_kwargs=EPS_KW,\n",
    "                                           double_dqn=DOUBLE_DQN,\n",
    "                                           dueling_dqn=DUELING_DQN,\n",
    "                                           num_episodes=EVAL_EPISODES,\n",
    "                                           plot_update_at_end=True,\n",
    "                                           random_seed=1\n",
    "                                          )\n",
    "\n",
    "eval_output = Output(agent, scores, mean_scores)\n"
   ]
  },
  {
   "cell_type": "markdown",
   "id": "a5e95556-260b-4e79-b4ba-dbb6b42406b2",
   "metadata": {},
   "source": [
    "### Try third round on \"medium-plus\" grid\n",
    "\n",
    "The jump from a 10x10 to a 32x24 grid is quite big. What happens if we train on a 20x16 grid as a third round and then evaluate on zero shot or fourth round of training on full-sized grid?"
   ]
  },
  {
   "cell_type": "code",
   "execution_count": null,
   "id": "6ba47988-66f5-4e9f-9a02-d76d3a60a21e",
   "metadata": {
    "jp-MarkdownHeadingCollapsed": true,
    "tags": []
   },
   "outputs": [],
   "source": [
    "TRAINING_EPISODES = 250\n",
    "LOAD_NAME = 'medium_grid.pth'\n",
    "SAVE_NAME = 'medium_plus_grid.pth'\n",
    "EPS_KW = {'epsilon': 0.7, 'epsilon_decay':[0.994, 0.992]}\n",
    "\n",
    "game_kwargs = {'width': 400, 'height': 320, 'UI': UI,\n",
    "                'window_title': \"{}\".format(GET_OBS)}\n",
    "\n",
    "agent, scores, mean_scores = training_loop(game_kwargs=game_kwargs,\n",
    "                                           model_name=LOAD_NAME,\n",
    "                                           load_model=True,\n",
    "                                           get_observation=GET_OBS,\n",
    "                                           greedy=True,\n",
    "                                           epsilon_kwargs=EPS_KW,\n",
    "                                           double_dqn=DOUBLE_DQN,\n",
    "                                           dueling_dqn=DUELING_DQN,\n",
    "                                           num_episodes=TRAINING_EPISODES,\n",
    "                                           plot_update_at_end=True\n",
    "                                          )\n",
    "agent.save_model(SAVE_NAME)\n",
    "curriculum_output[SAVE_NAME.split(',')[0]] = Output(agent, scores, mean_scores)"
   ]
  },
  {
   "cell_type": "markdown",
   "id": "e4d7ae03-354c-48f1-a473-d49e311625e9",
   "metadata": {},
   "source": [
    "### Zero shot evaluation after 3 rounds of curriculum training"
   ]
  },
  {
   "cell_type": "code",
   "execution_count": null,
   "id": "3f0b3602-b563-4000-b7c2-d86a0357d480",
   "metadata": {
    "tags": []
   },
   "outputs": [],
   "source": [
    "# using new obserations\n",
    "LOAD_NAME = 'medium_plus_grid.pth'\n",
    "# SAVE_NAME = 'medium_grid.pth'\n",
    "# EPS_KW = {'epsilon': 0.9, 'epsilon_decay':[0.992, 0.985]}\n",
    "\n",
    "game_kwargs = {'width': 640, 'height': 480, 'UI': UI,\n",
    "                'window_title': \"{}\".format(GET_OBS)}\n",
    "\n",
    "agent, scores, mean_scores = training_loop(game_kwargs=game_kwargs,\n",
    "                                           model_name=LOAD_NAME,\n",
    "                                           load_model=True,\n",
    "                                           get_observation=GET_OBS,\n",
    "                                           greedy=False,\n",
    "                                           # epsilon_kwargs=EPS_KW,\n",
    "                                           double_dqn=DOUBLE_DQN,\n",
    "                                           dueling_dqn=DUELING_DQN,\n",
    "                                           num_episodes=EVAL_EPISODES,\n",
    "                                           plot_update_at_end=True,\n",
    "                                           random_seed=1\n",
    "                                          )\n",
    "\n",
    "eval_output = Output(agent, scores, mean_scores)\n"
   ]
  },
  {
   "cell_type": "markdown",
   "id": "9c90a33d-ca09-4c5a-af6e-75c39fa7f523",
   "metadata": {},
   "source": [
    "### 4th round of training - full-sized grid, epsilon = 0.7\n",
    "\n",
    "This agent has trainded on 6x6, 10x10, 10x16 and finall on 32x24."
   ]
  },
  {
   "cell_type": "code",
   "execution_count": null,
   "id": "73bce661-8ca7-495d-90b3-8eedf94acf78",
   "metadata": {},
   "outputs": [],
   "source": [
    "TRAINING_EPISODES = 250\n",
    "LOAD_NAME = 'medium_plus_grid.pth'\n",
    "SAVE_NAME = 'full_gridv3.pth'\n",
    "EPS_KW = {'epsilon': 0.7, 'epsilon_decay':[0.994, 0.992]}\n",
    "\n",
    "game_kwargs = {'width': 640, 'height': 480, 'UI': UI,\n",
    "                'window_title': \"{}\".format(GET_OBS)}\n",
    "\n",
    "agent, scores, mean_scores = training_loop(game_kwargs=game_kwargs,\n",
    "                                           model_name=LOAD_NAME,\n",
    "                                           load_model=True,\n",
    "                                           get_observation=GET_OBS,\n",
    "                                           greedy=True,\n",
    "                                           epsilon_kwargs=EPS_KW,\n",
    "                                           double_dqn=DOUBLE_DQN,\n",
    "                                           dueling_dqn=DUELING_DQN,\n",
    "                                           num_episodes=TRAINING_EPISODES,\n",
    "                                           plot_update_at_end=True\n",
    "                                          )\n",
    "agent.save_model(SAVE_NAME)\n",
    "curriculum_output[SAVE_NAME.split(',')[0]] = Output(agent, scores, mean_scores)"
   ]
  },
  {
   "cell_type": "markdown",
   "id": "9eb63bdd-d306-4e10-b27e-40b7f1999961",
   "metadata": {},
   "source": [
    "### Evaluate after 4 training rounds"
   ]
  },
  {
   "cell_type": "code",
   "execution_count": null,
   "id": "2e70d31a-ba48-4b1c-815a-8b95861c1604",
   "metadata": {
    "tags": []
   },
   "outputs": [],
   "source": [
    "# using new obserations\n",
    "LOAD_NAME = 'full_gridv3.pth'\n",
    "# SAVE_NAME = 'medium_grid.pth'\n",
    "# EPS_KW = {'epsilon': 0.9, 'epsilon_decay':[0.992, 0.985]}\n",
    "\n",
    "game_kwargs = {'width': 640, 'height': 480, 'UI': UI,\n",
    "                'window_title': \"{}\".format(GET_OBS)}\n",
    "\n",
    "agent, scores, mean_scores = training_loop(game_kwargs=game_kwargs,\n",
    "                                           model_name=LOAD_NAME,\n",
    "                                           load_model=True,\n",
    "                                           get_observation=GET_OBS,\n",
    "                                           greedy=False,\n",
    "                                           # epsilon_kwargs=EPS_KW,\n",
    "                                           double_dqn=DOUBLE_DQN,\n",
    "                                           dueling_dqn=DUELING_DQN,\n",
    "                                           num_episodes=EVAL_EPISODES,\n",
    "                                           plot_update_at_end=True,\n",
    "                                           random_seed=1\n",
    "                                          )\n",
    "\n",
    "eval_output = Output(agent, scores, mean_scores)\n"
   ]
  },
  {
   "cell_type": "markdown",
   "id": "649f732c-186d-44df-a414-e28d4ff444c4",
   "metadata": {},
   "source": [
    "### "
   ]
  }
 ],
 "metadata": {
  "kernelspec": {
   "display_name": "Python 3 (ipykernel)",
   "language": "python",
   "name": "python3"
  },
  "language_info": {
   "codemirror_mode": {
    "name": "ipython",
    "version": 3
   },
   "file_extension": ".py",
   "mimetype": "text/x-python",
   "name": "python",
   "nbconvert_exporter": "python",
   "pygments_lexer": "ipython3",
   "version": "3.8.12"
  }
 },
 "nbformat": 4,
 "nbformat_minor": 5
}

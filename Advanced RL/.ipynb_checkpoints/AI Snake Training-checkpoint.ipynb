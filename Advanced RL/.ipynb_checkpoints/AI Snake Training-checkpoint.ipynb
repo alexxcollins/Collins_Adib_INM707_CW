{
 "cells": [
  {
   "cell_type": "code",
   "execution_count": 1,
   "id": "4780bfcd",
   "metadata": {},
   "outputs": [
    {
     "name": "stdout",
     "output_type": "stream",
     "text": [
      "pygame 2.1.2 (SDL 2.0.18, Python 3.7.11)\n",
      "Hello from the pygame community. https://www.pygame.org/contribute.html\n"
     ]
    }
   ],
   "source": [
    "import torch\n",
    "import torch.nn as nn\n",
    "import torch.optim as optim\n",
    "import torch.nn.functional as F\n",
    "from Agent import Agent\n",
    "from Game import SnakeGameAI\n",
    "from Model import DQN\n",
    "from helper import plot"
   ]
  },
  {
   "cell_type": "code",
   "execution_count": 2,
   "id": "036c6e7a",
   "metadata": {},
   "outputs": [],
   "source": [
    "lr = 0.01\n",
    "gamma = 0.9\n",
    "epsilon = 0.9\n",
    "epsilon_decay = [0.99999, 0.9999]\n",
    "epsilon_threshold = 0.5\n",
    "memory_capacity = 100000\n",
    "model = DQN(11, 256, 3)\n",
    "#model.load()\n",
    "optimizer = optim.Adam(model.parameters(), lr=lr)\n",
    "criterion = nn.MSELoss()\n",
    "\n",
    "agent_params = {\n",
    "    'gamma': gamma,\n",
    "    'epsilon': 0.9,\n",
    "    'epsilon_decay': epsilon_decay,\n",
    "    'epsilon_threshold': epsilon_threshold,\n",
    "    'memory_capacity': 100000,\n",
    "    'model': model,\n",
    "    'optimizer': optimizer,\n",
    "    'criterion': criterion\n",
    "}\n",
    "agent = Agent(**agent_params)\n",
    "game = SnakeGameAI()"
   ]
  },
  {
   "cell_type": "code",
   "execution_count": 3,
   "id": "5df5a248",
   "metadata": {
    "scrolled": false
   },
   "outputs": [
    {
     "data": {
      "text/plain": [
       "<Figure size 432x288 with 0 Axes>"
      ]
     },
     "metadata": {},
     "output_type": "display_data"
    },
    {
     "data": {
      "image/png": "[encoded data removed]",
      "text/plain": [
       "<Figure size 432x288 with 1 Axes>"
      ]
     },
     "metadata": {
      "needs_background": "light"
     },
     "output_type": "display_data"
    },
    {
     "ename": "KeyboardInterrupt",
     "evalue": "",
     "output_type": "error",
     "traceback": [
      "\u001b[1;31m---------------------------------------------------------------------------\u001b[0m",
      "\u001b[1;31mKeyboardInterrupt\u001b[0m                         Traceback (most recent call last)",
      "\u001b[1;32m~\\AppData\\Local\\Temp\\ipykernel_11980\\1777724773.py\u001b[0m in \u001b[0;36m<module>\u001b[1;34m\u001b[0m\n\u001b[0;32m     10\u001b[0m     \u001b[0mstate\u001b[0m \u001b[1;33m=\u001b[0m \u001b[0mgame\u001b[0m\u001b[1;33m.\u001b[0m\u001b[0mget_observation\u001b[0m\u001b[1;33m(\u001b[0m\u001b[1;33m)\u001b[0m\u001b[1;33m\u001b[0m\u001b[1;33m\u001b[0m\u001b[0m\n\u001b[0;32m     11\u001b[0m     \u001b[0maction\u001b[0m \u001b[1;33m=\u001b[0m \u001b[0magent\u001b[0m\u001b[1;33m.\u001b[0m\u001b[0me_greedy_action\u001b[0m\u001b[1;33m(\u001b[0m\u001b[0mstate\u001b[0m\u001b[1;33m)\u001b[0m\u001b[1;33m\u001b[0m\u001b[1;33m\u001b[0m\u001b[0m\n\u001b[1;32m---> 12\u001b[1;33m     \u001b[0mreward\u001b[0m\u001b[1;33m,\u001b[0m \u001b[0mdone\u001b[0m\u001b[1;33m,\u001b[0m \u001b[0mscore\u001b[0m \u001b[1;33m=\u001b[0m \u001b[0mgame\u001b[0m\u001b[1;33m.\u001b[0m\u001b[0mplay_step\u001b[0m\u001b[1;33m(\u001b[0m\u001b[0maction\u001b[0m\u001b[1;33m)\u001b[0m\u001b[1;33m\u001b[0m\u001b[1;33m\u001b[0m\u001b[0m\n\u001b[0m\u001b[0;32m     13\u001b[0m     \u001b[0mnext_state\u001b[0m \u001b[1;33m=\u001b[0m \u001b[0mgame\u001b[0m\u001b[1;33m.\u001b[0m\u001b[0mget_observation\u001b[0m\u001b[1;33m(\u001b[0m\u001b[1;33m)\u001b[0m\u001b[1;33m\u001b[0m\u001b[1;33m\u001b[0m\u001b[0m\n\u001b[0;32m     14\u001b[0m \u001b[1;33m\u001b[0m\u001b[0m\n",
      "\u001b[1;32mD:\\City University of London\\MSc Artificial intelligence\\Term 2\\INM707 Deep Reinforcement Learning\\Coursework\\CW code\\Collins_Adib_INM707_CW\\Advanced RL\\Game.py\u001b[0m in \u001b[0;36mplay_step\u001b[1;34m(self, action)\u001b[0m\n\u001b[0;32m    121\u001b[0m         \u001b[1;31m# 5. update ui and clock\u001b[0m\u001b[1;33m\u001b[0m\u001b[1;33m\u001b[0m\u001b[1;33m\u001b[0m\u001b[0m\n\u001b[0;32m    122\u001b[0m         \u001b[0mself\u001b[0m\u001b[1;33m.\u001b[0m\u001b[0m_update_ui\u001b[0m\u001b[1;33m(\u001b[0m\u001b[1;33m)\u001b[0m\u001b[1;33m\u001b[0m\u001b[1;33m\u001b[0m\u001b[0m\n\u001b[1;32m--> 123\u001b[1;33m         \u001b[0mself\u001b[0m\u001b[1;33m.\u001b[0m\u001b[0mclock\u001b[0m\u001b[1;33m.\u001b[0m\u001b[0mtick\u001b[0m\u001b[1;33m(\u001b[0m\u001b[0mself\u001b[0m\u001b[1;33m.\u001b[0m\u001b[0mgame_speed\u001b[0m\u001b[1;33m)\u001b[0m\u001b[1;33m\u001b[0m\u001b[1;33m\u001b[0m\u001b[0m\n\u001b[0m\u001b[0;32m    124\u001b[0m         \u001b[1;31m# 6. return game over and score\u001b[0m\u001b[1;33m\u001b[0m\u001b[1;33m\u001b[0m\u001b[1;33m\u001b[0m\u001b[0m\n\u001b[0;32m    125\u001b[0m         \u001b[1;32mreturn\u001b[0m \u001b[0mreward\u001b[0m\u001b[1;33m,\u001b[0m \u001b[0mgame_over\u001b[0m\u001b[1;33m,\u001b[0m \u001b[0mself\u001b[0m\u001b[1;33m.\u001b[0m\u001b[0mscore\u001b[0m\u001b[1;33m\u001b[0m\u001b[1;33m\u001b[0m\u001b[0m\n",
      "\u001b[1;31mKeyboardInterrupt\u001b[0m: "
     ]
    }
   ],
   "source": [
    "total_game = 1000\n",
    "\n",
    "plot_scores = []\n",
    "plot_mean_scores = []\n",
    "total_score = 0\n",
    "record = 0\n",
    "\n",
    "for epsiode in range(total_game):\n",
    "    \n",
    "    state = game.get_observation()\n",
    "    action = agent.e_greedy_action(state)\n",
    "    reward, done, score = game.play_step(action)\n",
    "    next_state = game.get_observation()\n",
    "    \n",
    "    #print(state, action,  reward,next_state, done)\n",
    "    \n",
    "    agent.train(state, action, reward, next_state, done)\n",
    "    \n",
    "    agent.remember(state, action, reward, next_state, done)\n",
    "    \n",
    "    if done:\n",
    "        agent.n_games += 1\n",
    "        game.reset()\n",
    "        states, actions, rewards, next_states, dones = agent.get_sample()\n",
    "        agent.train(states, actions, rewards, next_states, dones)\n",
    "        \n",
    "        if score > record:\n",
    "            record = score\n",
    "            agent.model.save()\n",
    "\n",
    "        plot_scores.append(score)\n",
    "        total_score += score\n",
    "        mean_score = total_score / agent.n_games\n",
    "        plot_mean_scores.append(mean_score)\n",
    "        plot(plot_scores, plot_mean_scores)"
   ]
  },
  {
   "cell_type": "code",
   "execution_count": null,
   "id": "13074a74",
   "metadata": {},
   "outputs": [],
   "source": []
  }
 ],
 "metadata": {
  "kernelspec": {
   "display_name": "Python [conda env:ailab] *",
   "language": "python",
   "name": "conda-env-ailab-py"
  },
  "language_info": {
   "codemirror_mode": {
    "name": "ipython",
    "version": 3
   },
   "file_extension": ".py",
   "mimetype": "text/x-python",
   "name": "python",
   "nbconvert_exporter": "python",
   "pygments_lexer": "ipython3",
   "version": "3.7.11"
  }
 },
 "nbformat": 4,
 "nbformat_minor": 5
}

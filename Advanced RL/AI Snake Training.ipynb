{
 "cells": [
  {
   "cell_type": "code",
   "execution_count": 1,
   "id": "4780bfcd",
   "metadata": {},
   "outputs": [
    {
     "name": "stdout",
     "output_type": "stream",
     "text": [
      "pygame 2.1.2 (SDL 2.0.18, Python 3.7.11)\n",
      "Hello from the pygame community. https://www.pygame.org/contribute.html\n"
     ]
    }
   ],
   "source": [
    "import torch\n",
    "import torch.nn as nn\n",
    "import torch.optim as optim\n",
    "import torch.nn.functional as F\n",
    "from Agent import Agent\n",
    "from Game import SnakeGameAI\n",
    "from Model import DQN\n",
    "from helper import plot"
   ]
  },
  {
   "cell_type": "code",
   "execution_count": 2,
   "id": "2c3f2f7a",
   "metadata": {},
   "outputs": [],
   "source": [
    "lr = 0.01\n",
    "gamma = 0.9\n",
    "epsilon = 0.9\n",
    "epsilon_decay = [0.99999, 0.9999]\n",
    "epsilon_threshold = 0.5\n",
    "memory_capacity = 100000\n",
    "model = DQN(11, 256, 3)\n",
    "#model.load()\n",
    "optimizer = optim.Adam(model.parameters(), lr=lr)\n",
    "criterion = nn.MSELoss()\n",
    "\n",
    "agent_params = {\n",
    "    'gamma': gamma,\n",
    "    'epsilon': 0.9,\n",
    "    'epsilon_decay': epsilon_decay,\n",
    "    'epsilon_threshold': epsilon_threshold,\n",
    "    'memory_capacity': 100000,\n",
    "    'model': model,\n",
    "    'optimizer': optimizer,\n",
    "    'criterion': criterion\n",
    "}\n",
    "agent = Agent(**agent_params)\n",
    "game = SnakeGameAI()"
   ]
  },
  {
   "cell_type": "code",
   "execution_count": null,
   "id": "32e8b7b0",
   "metadata": {
    "scrolled": false
   },
   "outputs": [
    {
     "data": {
      "text/plain": [
       "<Figure size 432x288 with 0 Axes>"
      ]
     },
     "metadata": {},
     "output_type": "display_data"
    },
    {
     "data": {
      "image/png": "[encoded data removed]",
      "text/plain": [
       "<Figure size 432x288 with 1 Axes>"
      ]
     },
     "metadata": {
      "needs_background": "light"
     },
     "output_type": "display_data"
    }
   ],
   "source": [
    "plot_scores = []\n",
    "plot_mean_scores = []\n",
    "total_score = 0\n",
    "record = 0\n",
    "\n",
    "while True:\n",
    "    \n",
    "    state = game.get_observation()\n",
    "    action = agent.e_greedy_action(state)\n",
    "    reward, done, score = game.play_step(action)\n",
    "    next_state = game.get_observation()\n",
    "    \n",
    "    #print(state, action,  reward,next_state, done)\n",
    "    \n",
    "    agent.train(state, action, reward, next_state, done)\n",
    "    \n",
    "    agent.remember(state, action, reward, next_state, done)\n",
    "    \n",
    "    if done:\n",
    "        agent.n_games += 1\n",
    "        game.reset()\n",
    "        states, actions, rewards, next_states, dones = agent.get_sample()\n",
    "        agent.train(states, actions, rewards, next_states, dones)\n",
    "        \n",
    "        if score > record:\n",
    "            record = score\n",
    "            agent.model.save()\n",
    "\n",
    "        plot_scores.append(score)\n",
    "        total_score += score\n",
    "        mean_score = total_score / agent.n_games\n",
    "        plot_mean_scores.append(mean_score)\n",
    "        plot(plot_scores, plot_mean_scores)"
   ]
  },
  {
   "cell_type": "code",
   "execution_count": null,
   "id": "9a23756a",
   "metadata": {},
   "outputs": [],
   "source": []
  }
 ],
 "metadata": {
  "kernelspec": {
   "display_name": "Python [conda env:ailab] *",
   "language": "python",
   "name": "conda-env-ailab-py"
  },
  "language_info": {
   "codemirror_mode": {
    "name": "ipython",
    "version": 3
   },
   "file_extension": ".py",
   "mimetype": "text/x-python",
   "name": "python",
   "nbconvert_exporter": "python",
   "pygments_lexer": "ipython3",
   "version": "3.7.11"
  }
 },
 "nbformat": 4,
 "nbformat_minor": 5
}

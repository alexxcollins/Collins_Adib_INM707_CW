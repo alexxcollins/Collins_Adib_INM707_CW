{
 "cells": [
  {
   "cell_type": "code",
   "execution_count": 1,
   "id": "21568b92-ed60-4691-a23f-21945c19df1a",
   "metadata": {},
   "outputs": [
    {
     "name": "stdout",
     "output_type": "stream",
     "text": [
      "pygame 2.1.2 (SDL 2.0.18, Python 3.9.7)\n",
      "Hello from the pygame community. https://www.pygame.org/contribute.html\n"
     ]
    }
   ],
   "source": [
    "from Game import SnakeGameAI, Direction, Point\n",
    "import pygame\n",
    "from Agent import Agent\n",
    "from helper import plot"
   ]
  },
  {
   "cell_type": "markdown",
   "id": "e3497df6-7116-48ca-ba17-9d31690b3e7f",
   "metadata": {},
   "source": [
    "Snake game:\n",
    "\n",
    "Snake tries to eat rats and grow as long as it can.\n",
    "\n",
    "Constructor has width, height, block_size (set in pixels I think), game_speed and window_title.\n",
    "\n",
    "Block_size is the size of each \"block\" in the snakes body.\n",
    "\n",
    "We instantiate a new game and print out values of attributes set by constructor:"
   ]
  },
  {
   "cell_type": "code",
   "execution_count": 2,
   "id": "b608be55-603f-447e-bf32-ec4571705fa4",
   "metadata": {},
   "outputs": [],
   "source": [
    "game = SnakeGameAI()"
   ]
  },
  {
   "cell_type": "code",
   "execution_count": 3,
   "id": "102acaf0-8821-46f8-bb82-f5091d457d10",
   "metadata": {},
   "outputs": [
    {
     "data": {
      "text/plain": [
       "{'block_size': 20,\n",
       " 'clock': <Clock(fps=0.00)>,\n",
       " 'direction': <Direction.RIGHT: 1>,\n",
       " 'display': <Surface(640x480x32 SW)>,\n",
       " 'frame_iteration': 0,\n",
       " 'game_speed': 50,\n",
       " 'height': 480,\n",
       " 'rat': Point(x=200, y=300),\n",
       " 'score': 0,\n",
       " 'snake_body': [Point(x=320.0, y=240.0),\n",
       "  Point(x=300.0, y=240.0),\n",
       "  Point(x=280.0, y=240.0)],\n",
       " 'snake_head': Point(x=320.0, y=240.0),\n",
       " 'width': 640}"
      ]
     },
     "execution_count": 3,
     "metadata": {},
     "output_type": "execute_result"
    }
   ],
   "source": [
    "def get_atts(game):\n",
    "    at = [a for a in dir(game) if not a.startswith('_')\n",
    "         and not callable(getattr(game, a))]\n",
    "    val = [getattr(game, a) for a in at]\n",
    "    ats = dict(zip(at, val))\n",
    "    return ats\n",
    "get_atts(game)"
   ]
  },
  {
   "cell_type": "markdown",
   "id": "1f343ed4-2830-4f62-ba19-8dbc7f20efed",
   "metadata": {},
   "source": [
    "Have a look at the methods available too"
   ]
  },
  {
   "cell_type": "code",
   "execution_count": 4,
   "id": "c2a50f45-3817-4bdd-a9d0-d6afde102380",
   "metadata": {},
   "outputs": [
    {
     "data": {
      "text/plain": [
       "['end_game', 'is_collision', 'play_step', 'reset']"
      ]
     },
     "execution_count": 4,
     "metadata": {},
     "output_type": "execute_result"
    }
   ],
   "source": [
    "meth = [a for a in dir(game) if not a.startswith('_')\n",
    "        and callable(getattr(game, a))]\n",
    "meth"
   ]
  },
  {
   "cell_type": "code",
   "execution_count": 31,
   "id": "2ad5cd2f-c6ff-4ac1-b835-fd8ce4f88ca6",
   "metadata": {},
   "outputs": [],
   "source": [
    "game._place_rat()"
   ]
  },
  {
   "cell_type": "markdown",
   "id": "c5375766-fe1f-41f2-acfd-76506a2dc468",
   "metadata": {},
   "source": [
    "### Build and agent and look at attributes"
   ]
  },
  {
   "cell_type": "code",
   "execution_count": 7,
   "id": "cdb3aae6-b6e6-47f8-8742-743781f72708",
   "metadata": {},
   "outputs": [
    {
     "data": {
      "text/plain": [
       "(array([0, 0, 0, 0, 1, 0, 0, 0, 1, 1, 0]), (11,))"
      ]
     },
     "execution_count": 7,
     "metadata": {},
     "output_type": "execute_result"
    }
   ],
   "source": [
    "plot_scores = []\n",
    "plot_mean_scores = []\n",
    "total_score = 0\n",
    "record = 0\n",
    "epsilons = []\n",
    "agent = Agent(double_dqn=False)\n",
    "\n",
    "state = agent.get_observation()\n",
    "state, state.shape"
   ]
  },
  {
   "cell_type": "markdown",
   "id": "d501c200-8ac4-48e4-ae27-69460ed02ca5",
   "metadata": {},
   "source": [
    "Make agent choose an acion. Action is a list representing which diretion to go. One value will be a one, and action list represents:\n",
    "\n",
    "[straight, right, left]"
   ]
  },
  {
   "cell_type": "code",
   "execution_count": 9,
   "id": "5ca62516-a102-44a4-bc5a-536a78be10b0",
   "metadata": {},
   "outputs": [
    {
     "data": {
      "text/plain": [
       "([1, 0, 0], list)"
      ]
     },
     "execution_count": 9,
     "metadata": {},
     "output_type": "execute_result"
    }
   ],
   "source": [
    "action = agent.choose_action(state)\n",
    "action, type(action)"
   ]
  },
  {
   "cell_type": "code",
   "execution_count": 11,
   "id": "90b6deb4-1fb0-49da-8fdc-6925ce878e16",
   "metadata": {},
   "outputs": [
    {
     "data": {
      "text/plain": [
       "(0, False, 0)"
      ]
     },
     "execution_count": 11,
     "metadata": {},
     "output_type": "execute_result"
    }
   ],
   "source": [
    "reward, done, score = agent.game.play_step(action)\n",
    "reward, done, score"
   ]
  },
  {
   "cell_type": "code",
   "execution_count": 20,
   "id": "ddc65ea0-90cf-480e-b732-005bb29d9501",
   "metadata": {},
   "outputs": [],
   "source": [
    "from collections import deque, namedtuple\n",
    "import random\n",
    "\n",
    "buffer = deque(maxlen=5)"
   ]
  },
  {
   "cell_type": "code",
   "execution_count": 18,
   "id": "5c4890fd-7c05-4799-a576-29142c1f480f",
   "metadata": {},
   "outputs": [
    {
     "data": {
      "text/plain": [
       "deque([2, 3, 4, 5, 6])"
      ]
     },
     "execution_count": 18,
     "metadata": {},
     "output_type": "execute_result"
    }
   ],
   "source": [
    "def append_deq(deq, seq):\n",
    "    for s in seq:\n",
    "        deq.append(s)\n",
    "    return deq\n",
    "append_deq(buffer, range(7))"
   ]
  },
  {
   "cell_type": "code",
   "execution_count": 46,
   "id": "9cfd0283-b62c-42b5-b260-479d3a52aba4",
   "metadata": {},
   "outputs": [],
   "source": [
    "Transition = namedtuple('Transition', ('state', 'action', 'next_state','reward'))\n",
    "\n",
    "def create_trans():\n",
    "    memory = []\n",
    "    for i in range(10):\n",
    "        trans = Transition(torch.tensor(random.randint(0,10)).reshape(1,),\n",
    "                           torch.tensor(random.randint(0,10)).reshape(1,),\n",
    "                           torch.tensor(random.randint(0,10)).reshape(1,),\n",
    "                           torch.tensor(random.randint(0,10)).reshape(1,))\n",
    "        memory.append(trans)\n",
    "    return memory\n",
    "        \n",
    "memory = create_trans()\n"
   ]
  },
  {
   "cell_type": "code",
   "execution_count": 47,
   "id": "15910264-0b47-4b3f-9f36-9627cd13ffa2",
   "metadata": {},
   "outputs": [
    {
     "data": {
      "text/plain": [
       "[Transition(state=tensor([10]), action=tensor([10]), next_state=tensor([4]), reward=tensor([4])),\n",
       " Transition(state=tensor([10]), action=tensor([3]), next_state=tensor([5]), reward=tensor([7])),\n",
       " Transition(state=tensor([5]), action=tensor([9]), next_state=tensor([0]), reward=tensor([2])),\n",
       " Transition(state=tensor([6]), action=tensor([9]), next_state=tensor([1]), reward=tensor([2])),\n",
       " Transition(state=tensor([10]), action=tensor([0]), next_state=tensor([6]), reward=tensor([7]))]"
      ]
     },
     "execution_count": 47,
     "metadata": {},
     "output_type": "execute_result"
    }
   ],
   "source": [
    "transitions = random.sample(memory, 5)\n",
    "transitions"
   ]
  },
  {
   "cell_type": "code",
   "execution_count": 48,
   "id": "40b3a61d-f83c-40e6-9f0d-a8827bceba5f",
   "metadata": {},
   "outputs": [
    {
     "data": {
      "text/plain": [
       "Transition(state=(tensor([10]), tensor([10]), tensor([5]), tensor([6]), tensor([10])), action=(tensor([10]), tensor([3]), tensor([9]), tensor([9]), tensor([0])), next_state=(tensor([4]), tensor([5]), tensor([0]), tensor([1]), tensor([6])), reward=(tensor([4]), tensor([7]), tensor([2]), tensor([2]), tensor([7])))"
      ]
     },
     "execution_count": 48,
     "metadata": {},
     "output_type": "execute_result"
    }
   ],
   "source": [
    "batch = Transition(*zip(*transitions))\n",
    "batch"
   ]
  },
  {
   "cell_type": "code",
   "execution_count": 49,
   "id": "800f650e-3fdd-4e65-83fe-f90ea69f4daa",
   "metadata": {},
   "outputs": [
    {
     "data": {
      "text/plain": [
       "(True, True, True, True, True)"
      ]
     },
     "execution_count": 49,
     "metadata": {},
     "output_type": "execute_result"
    }
   ],
   "source": [
    "tuple(map(lambda s: s is not None, batch.next_state))"
   ]
  },
  {
   "cell_type": "code",
   "execution_count": 50,
   "id": "d0dcc925-2490-4bb1-b375-527f509fb490",
   "metadata": {},
   "outputs": [
    {
     "data": {
      "text/plain": [
       "[tensor([4]), tensor([5]), tensor([0]), tensor([1]), tensor([6])]"
      ]
     },
     "execution_count": 50,
     "metadata": {},
     "output_type": "execute_result"
    }
   ],
   "source": [
    "[s for s in batch.next_state if s is not None]"
   ]
  },
  {
   "cell_type": "code",
   "execution_count": 51,
   "id": "f3a9e0a6-11b8-4e5c-aab1-4d535a52450a",
   "metadata": {},
   "outputs": [],
   "source": [
    "import torch"
   ]
  },
  {
   "cell_type": "code",
   "execution_count": 54,
   "id": "729f3fdf-d112-4fa2-b00c-c4bd21ba645a",
   "metadata": {},
   "outputs": [
    {
     "data": {
      "text/plain": [
       "torch.Size([5])"
      ]
     },
     "execution_count": 54,
     "metadata": {},
     "output_type": "execute_result"
    }
   ],
   "source": [
    "torch.cat(batch.state).shape"
   ]
  },
  {
   "cell_type": "code",
   "execution_count": 53,
   "id": "086d8777-af3e-47a3-b22d-0777b5e2a81f",
   "metadata": {},
   "outputs": [
    {
     "data": {
      "text/plain": [
       "(tensor([10]), tensor([10]), tensor([5]), tensor([6]), tensor([10]))"
      ]
     },
     "execution_count": 53,
     "metadata": {},
     "output_type": "execute_result"
    }
   ],
   "source": [
    "batch.state"
   ]
  },
  {
   "cell_type": "code",
   "execution_count": 63,
   "id": "c86ec4c7-5a75-471e-9c66-a384295d82ec",
   "metadata": {},
   "outputs": [
    {
     "data": {
      "text/plain": [
       "[tensor([[10, 10,  5,  6, 10]]),\n",
       " tensor([[10, 10,  5,  6, 10]]),\n",
       " tensor([[10, 10,  5,  6, 10]]),\n",
       " tensor([[10, 10,  5,  6, 10]]),\n",
       " tensor([[10, 10,  5,  6, 10]]),\n",
       " tensor([[10, 10,  5,  6, 10]]),\n",
       " tensor([[10, 10,  5,  6, 10]]),\n",
       " tensor([[10, 10,  5,  6, 10]])]"
      ]
     },
     "execution_count": 63,
     "metadata": {},
     "output_type": "execute_result"
    }
   ],
   "source": [
    "l_ = []\n",
    "for i in range(8):\n",
    "    l_.append(torch.cat(batch.state).unsqueeze(0))\n",
    "l_"
   ]
  },
  {
   "cell_type": "code",
   "execution_count": 66,
   "id": "521b918a-2824-4989-b4e4-442057c17c64",
   "metadata": {},
   "outputs": [
    {
     "data": {
      "text/plain": [
       "torch.Size([8, 5])"
      ]
     },
     "execution_count": 66,
     "metadata": {},
     "output_type": "execute_result"
    }
   ],
   "source": [
    "torch.cat(l_).shape"
   ]
  },
  {
   "cell_type": "code",
   "execution_count": 67,
   "id": "b60e250b-7379-4f90-b605-3890a4a0dbfc",
   "metadata": {},
   "outputs": [
    {
     "data": {
      "text/plain": [
       "torch.Size([10])"
      ]
     },
     "execution_count": 67,
     "metadata": {},
     "output_type": "execute_result"
    }
   ],
   "source": [
    "next = torch.zeros(10)\n",
    "next.shape"
   ]
  },
  {
   "cell_type": "code",
   "execution_count": 76,
   "id": "90dbc087-838d-449c-a4d7-aaa5c0b3af09",
   "metadata": {},
   "outputs": [
    {
     "data": {
      "text/plain": [
       "torch.Size([1, 10])"
      ]
     },
     "execution_count": 76,
     "metadata": {},
     "output_type": "execute_result"
    }
   ],
   "source": [
    "next.unsqueeze(0).shape"
   ]
  },
  {
   "cell_type": "code",
   "execution_count": 77,
   "id": "9f5f58e5-7d2a-435f-aeac-a1d24543b6c2",
   "metadata": {},
   "outputs": [],
   "source": [
    "import numpy as np"
   ]
  },
  {
   "cell_type": "code",
   "execution_count": 93,
   "id": "1acd94ad-1247-4fcb-bf88-457e6f449d2d",
   "metadata": {},
   "outputs": [
    {
     "data": {
      "text/plain": [
       "array([[1., 1., 1., 1., 1., 1., 1.],\n",
       "       [1., 1., 1., 1., 1., 1., 1.],\n",
       "       [1., 1., 1., 1., 1., 1., 1.],\n",
       "       [1., 1., 1., 1., 1., 1., 1.],\n",
       "       [1., 1., 1., 1., 1., 1., 1.],\n",
       "       [1., 1., 1., 1., 1., 1., 1.],\n",
       "       [1., 1., 1., 1., 1., 1., 1.]])"
      ]
     },
     "execution_count": 93,
     "metadata": {},
     "output_type": "execute_result"
    }
   ],
   "source": [
    "ar = np.ones((7,7))\n",
    "ar"
   ]
  },
  {
   "cell_type": "code",
   "execution_count": 94,
   "id": "af5128b3-a019-41a4-98b9-880a0d36410a",
   "metadata": {},
   "outputs": [
    {
     "data": {
      "text/plain": [
       "array([[1., 1., 1., 1., 1., 1., 1.],\n",
       "       [1., 1., 1., 1., 1., 1., 1.],\n",
       "       [1., 1., 0., 0., 0., 1., 1.],\n",
       "       [1., 1., 0., 0., 0., 1., 1.],\n",
       "       [1., 1., 0., 0., 0., 1., 1.],\n",
       "       [1., 1., 1., 1., 1., 1., 1.],\n",
       "       [1., 1., 1., 1., 1., 1., 1.]])"
      ]
     },
     "execution_count": 94,
     "metadata": {},
     "output_type": "execute_result"
    }
   ],
   "source": [
    "ar[2:-2,2:-2]=0\n",
    "ar"
   ]
  },
  {
   "cell_type": "code",
   "execution_count": 100,
   "id": "cc7ada9c-356d-4c16-9550-44ede3b837c9",
   "metadata": {},
   "outputs": [],
   "source": [
    "surroundings = ar[2:7, 2:7]"
   ]
  },
  {
   "cell_type": "code",
   "execution_count": 102,
   "id": "a3f5acfe-681a-44ac-8007-bbeb0de3acb3",
   "metadata": {},
   "outputs": [
    {
     "data": {
      "text/plain": [
       "[0.0,\n",
       " 0.0,\n",
       " 0.0,\n",
       " 1.0,\n",
       " 1.0,\n",
       " 0.0,\n",
       " 0.0,\n",
       " 0.0,\n",
       " 1.0,\n",
       " 1.0,\n",
       " 0.0,\n",
       " 0.0,\n",
       " 0.0,\n",
       " 1.0,\n",
       " 1.0,\n",
       " 1.0,\n",
       " 1.0,\n",
       " 1.0,\n",
       " 1.0,\n",
       " 1.0,\n",
       " 1.0,\n",
       " 1.0,\n",
       " 1.0,\n",
       " 1.0,\n",
       " 1.0]"
      ]
     },
     "execution_count": 102,
     "metadata": {},
     "output_type": "execute_result"
    }
   ],
   "source": [
    "list(surroundings.flatten())"
   ]
  },
  {
   "cell_type": "code",
   "execution_count": 86,
   "id": "27ff7b61-ede9-4897-bd57-594d484add8e",
   "metadata": {},
   "outputs": [],
   "source": [
    "Point = namedtuple('Point', 'x, y')"
   ]
  },
  {
   "cell_type": "code",
   "execution_count": 89,
   "id": "055125c7-4ad2-4b6e-8af0-ddec3c0253d5",
   "metadata": {},
   "outputs": [
    {
     "data": {
      "text/plain": [
       "(5, 3)"
      ]
     },
     "execution_count": 89,
     "metadata": {},
     "output_type": "execute_result"
    }
   ],
   "source": [
    "p = Point(5,3)\n",
    "p.x, p.y"
   ]
  },
  {
   "cell_type": "code",
   "execution_count": 110,
   "id": "1d219ad3-199d-440c-b11a-1286a0e3b9fa",
   "metadata": {},
   "outputs": [
    {
     "data": {
      "text/plain": [
       "array([[6, 3],\n",
       "       [8, 5]])"
      ]
     },
     "execution_count": 110,
     "metadata": {},
     "output_type": "execute_result"
    }
   ],
   "source": [
    "a = np.random.randint(0,10,size=(2,2))\n",
    "a"
   ]
  },
  {
   "cell_type": "code",
   "execution_count": 111,
   "id": "16de87c8-735b-4567-980d-0168680be678",
   "metadata": {},
   "outputs": [
    {
     "data": {
      "text/plain": [
       "array([[3, 5],\n",
       "       [6, 8]])"
      ]
     },
     "execution_count": 111,
     "metadata": {},
     "output_type": "execute_result"
    }
   ],
   "source": [
    "np.rot90(a, 1)"
   ]
  },
  {
   "cell_type": "code",
   "execution_count": 112,
   "id": "c3660817-24fa-4549-9b57-d20d6a649622",
   "metadata": {},
   "outputs": [
    {
     "data": {
      "text/plain": [
       "(8, 5)"
      ]
     },
     "execution_count": 112,
     "metadata": {},
     "output_type": "execute_result"
    }
   ],
   "source": [
    "a[1,0], a[1,1]"
   ]
  },
  {
   "cell_type": "code",
   "execution_count": 113,
   "id": "7257fc31-0ca7-42d2-acc4-7a337e3a47d7",
   "metadata": {},
   "outputs": [
    {
     "data": {
      "text/plain": [
       "array([6, 3, 8, 5, 6, 3, 8, 5])"
      ]
     },
     "execution_count": 113,
     "metadata": {},
     "output_type": "execute_result"
    }
   ],
   "source": [
    "np.concatenate((a.flatten(), a.flatten()))"
   ]
  },
  {
   "cell_type": "code",
   "execution_count": 114,
   "id": "49ea00a4-046e-4d94-ac07-fb9aeaef63de",
   "metadata": {},
   "outputs": [
    {
     "data": {
      "text/plain": [
       "array([[1., 1., 1., 1.],\n",
       "       [1., 1., 1., 1.],\n",
       "       [1., 1., 1., 1.],\n",
       "       [1., 1., 1., 1.]])"
      ]
     },
     "execution_count": 114,
     "metadata": {},
     "output_type": "execute_result"
    }
   ],
   "source": [
    "np.ones((4,4))"
   ]
  },
  {
   "cell_type": "code",
   "execution_count": 133,
   "id": "d993c4cc-a504-4ee6-86dc-e22a078855fe",
   "metadata": {},
   "outputs": [
    {
     "data": {
      "text/plain": [
       "2"
      ]
     },
     "execution_count": 133,
     "metadata": {},
     "output_type": "execute_result"
    }
   ],
   "source": [
    "import random\n",
    "random.randint(0,2)"
   ]
  },
  {
   "cell_type": "code",
   "execution_count": null,
   "id": "f189b4cb-53bf-4204-b203-689844e9d190",
   "metadata": {},
   "outputs": [],
   "source": []
  },
  {
   "cell_type": "code",
   "execution_count": null,
   "id": "c3086a03-2c6c-426f-a8a6-e10565fe8eb3",
   "metadata": {},
   "outputs": [],
   "source": []
  }
 ],
 "metadata": {
  "kernelspec": {
   "display_name": "Python 3 (ipykernel)",
   "language": "python",
   "name": "python3"
  },
  "language_info": {
   "codemirror_mode": {
    "name": "ipython",
    "version": 3
   },
   "file_extension": ".py",
   "mimetype": "text/x-python",
   "name": "python",
   "nbconvert_exporter": "python",
   "pygments_lexer": "ipython3",
   "version": "3.9.7"
  }
 },
 "nbformat": 4,
 "nbformat_minor": 5
}

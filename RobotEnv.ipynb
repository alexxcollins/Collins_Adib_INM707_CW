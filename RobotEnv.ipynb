{
 "cells": [
  {
   "cell_type": "markdown",
   "id": "42179e22-b203-40fc-9da9-55b77a567c55",
   "metadata": {},
   "source": [
    "# Reinforcement Learning Notwbook"
   ]
  },
  {
   "cell_type": "code",
   "execution_count": 1,
   "id": "22fe516e-f2bd-4eaa-bd34-ec7f02bdf288",
   "metadata": {},
   "outputs": [],
   "source": [
    "from RobotEnvClass import Q_Learning, SARSA_learning, Q_Learning_Randomness\n",
    "import numpy as np\n",
    "import matplotlib.pyplot as plt"
   ]
  },
  {
   "cell_type": "markdown",
   "id": "0560e941-91de-4da2-bcd8-0132c3d1bdaf",
   "metadata": {},
   "source": [
    "## Q Learning"
   ]
  },
  {
   "cell_type": "code",
   "execution_count": 2,
   "id": "9e552d35-8243-41c0-a564-427802848c1d",
   "metadata": {},
   "outputs": [],
   "source": [
    "q_learning = Q_Learning()\n",
    "q_learning.max_episodes = 5000\n",
    "q_learning.rewards={'r_time':-0.2,'r_pond':-20,'r_croissant':30,'r_cogs':30,'r_work':50}"
   ]
  },
  {
   "cell_type": "code",
   "execution_count": 3,
   "id": "ccd8aece-72cd-4e9a-a3cf-f82779e504ba",
   "metadata": {},
   "outputs": [
    {
     "name": "stdout",
     "output_type": "stream",
     "text": [
      "CPU times: user 35.4 s, sys: 586 ms, total: 35.9 s\n",
      "Wall time: 35.4 s\n"
     ]
    }
   ],
   "source": [
    "%%time\n",
    "Q, Rtot = q_learning.learn(1,0.8,0.9)"
   ]
  },
  {
   "cell_type": "code",
   "execution_count": 4,
   "id": "c9639388-5860-4d45-b979-238631e1c36b",
   "metadata": {},
   "outputs": [
    {
     "data": {
      "text/html": [
       "<div>\n",
       "<style scoped>\n",
       "    .dataframe tbody tr th:only-of-type {\n",
       "        vertical-align: middle;\n",
       "    }\n",
       "\n",
       "    .dataframe tbody tr th {\n",
       "        vertical-align: top;\n",
       "    }\n",
       "\n",
       "    .dataframe thead th {\n",
       "        text-align: right;\n",
       "    }\n",
       "</style>\n",
       "<table border=\"1\" class=\"dataframe\">\n",
       "  <thead>\n",
       "    <tr style=\"text-align: right;\">\n",
       "      <th></th>\n",
       "      <th>25</th>\n",
       "      <th>26</th>\n",
       "      <th>27</th>\n",
       "      <th>28</th>\n",
       "      <th>29</th>\n",
       "      <th>30</th>\n",
       "      <th>31</th>\n",
       "      <th>32</th>\n",
       "      <th>33</th>\n",
       "      <th>34</th>\n",
       "      <th>35</th>\n",
       "    </tr>\n",
       "  </thead>\n",
       "  <tbody>\n",
       "    <tr>\n",
       "      <th>25</th>\n",
       "      <td>0.000000</td>\n",
       "      <td>66.111111</td>\n",
       "      <td>0.000000</td>\n",
       "      <td>0.000000</td>\n",
       "      <td>0.0</td>\n",
       "      <td>0.000000</td>\n",
       "      <td>66.111111</td>\n",
       "      <td>0.000000</td>\n",
       "      <td>0.000000</td>\n",
       "      <td>0.000000</td>\n",
       "      <td>0.0</td>\n",
       "    </tr>\n",
       "    <tr>\n",
       "      <th>26</th>\n",
       "      <td>52.688889</td>\n",
       "      <td>0.000000</td>\n",
       "      <td>32.888889</td>\n",
       "      <td>0.000000</td>\n",
       "      <td>0.0</td>\n",
       "      <td>0.000000</td>\n",
       "      <td>0.000000</td>\n",
       "      <td>82.888889</td>\n",
       "      <td>0.000000</td>\n",
       "      <td>0.000000</td>\n",
       "      <td>0.0</td>\n",
       "    </tr>\n",
       "    <tr>\n",
       "      <th>27</th>\n",
       "      <td>0.000000</td>\n",
       "      <td>66.111111</td>\n",
       "      <td>32.888889</td>\n",
       "      <td>41.951111</td>\n",
       "      <td>0.0</td>\n",
       "      <td>0.000000</td>\n",
       "      <td>0.000000</td>\n",
       "      <td>0.000000</td>\n",
       "      <td>66.111111</td>\n",
       "      <td>0.000000</td>\n",
       "      <td>0.0</td>\n",
       "    </tr>\n",
       "    <tr>\n",
       "      <th>28</th>\n",
       "      <td>0.000000</td>\n",
       "      <td>0.000000</td>\n",
       "      <td>32.888889</td>\n",
       "      <td>0.000000</td>\n",
       "      <td>39.8</td>\n",
       "      <td>0.000000</td>\n",
       "      <td>0.000000</td>\n",
       "      <td>0.000000</td>\n",
       "      <td>0.000000</td>\n",
       "      <td>52.688889</td>\n",
       "      <td>0.0</td>\n",
       "    </tr>\n",
       "    <tr>\n",
       "      <th>29</th>\n",
       "      <td>0.000000</td>\n",
       "      <td>0.000000</td>\n",
       "      <td>0.000000</td>\n",
       "      <td>41.951111</td>\n",
       "      <td>0.0</td>\n",
       "      <td>0.000000</td>\n",
       "      <td>0.000000</td>\n",
       "      <td>0.000000</td>\n",
       "      <td>0.000000</td>\n",
       "      <td>0.000000</td>\n",
       "      <td>50.0</td>\n",
       "    </tr>\n",
       "    <tr>\n",
       "      <th>30</th>\n",
       "      <td>0.000000</td>\n",
       "      <td>0.000000</td>\n",
       "      <td>0.000000</td>\n",
       "      <td>0.000000</td>\n",
       "      <td>0.0</td>\n",
       "      <td>0.000000</td>\n",
       "      <td>66.111111</td>\n",
       "      <td>0.000000</td>\n",
       "      <td>0.000000</td>\n",
       "      <td>0.000000</td>\n",
       "      <td>0.0</td>\n",
       "    </tr>\n",
       "    <tr>\n",
       "      <th>31</th>\n",
       "      <td>52.688889</td>\n",
       "      <td>0.000000</td>\n",
       "      <td>0.000000</td>\n",
       "      <td>0.000000</td>\n",
       "      <td>0.0</td>\n",
       "      <td>52.688889</td>\n",
       "      <td>0.000000</td>\n",
       "      <td>82.888889</td>\n",
       "      <td>0.000000</td>\n",
       "      <td>0.000000</td>\n",
       "      <td>0.0</td>\n",
       "    </tr>\n",
       "    <tr>\n",
       "      <th>32</th>\n",
       "      <td>0.000000</td>\n",
       "      <td>66.111111</td>\n",
       "      <td>0.000000</td>\n",
       "      <td>0.000000</td>\n",
       "      <td>0.0</td>\n",
       "      <td>0.000000</td>\n",
       "      <td>66.111111</td>\n",
       "      <td>0.000000</td>\n",
       "      <td>0.000000</td>\n",
       "      <td>0.000000</td>\n",
       "      <td>0.0</td>\n",
       "    </tr>\n",
       "    <tr>\n",
       "      <th>33</th>\n",
       "      <td>0.000000</td>\n",
       "      <td>0.000000</td>\n",
       "      <td>32.888889</td>\n",
       "      <td>0.000000</td>\n",
       "      <td>0.0</td>\n",
       "      <td>0.000000</td>\n",
       "      <td>0.000000</td>\n",
       "      <td>82.888889</td>\n",
       "      <td>0.000000</td>\n",
       "      <td>52.688889</td>\n",
       "      <td>0.0</td>\n",
       "    </tr>\n",
       "    <tr>\n",
       "      <th>34</th>\n",
       "      <td>0.000000</td>\n",
       "      <td>0.000000</td>\n",
       "      <td>0.000000</td>\n",
       "      <td>41.951111</td>\n",
       "      <td>0.0</td>\n",
       "      <td>0.000000</td>\n",
       "      <td>0.000000</td>\n",
       "      <td>0.000000</td>\n",
       "      <td>66.111111</td>\n",
       "      <td>0.000000</td>\n",
       "      <td>50.0</td>\n",
       "    </tr>\n",
       "    <tr>\n",
       "      <th>35</th>\n",
       "      <td>0.000000</td>\n",
       "      <td>0.000000</td>\n",
       "      <td>0.000000</td>\n",
       "      <td>0.000000</td>\n",
       "      <td>0.0</td>\n",
       "      <td>0.000000</td>\n",
       "      <td>0.000000</td>\n",
       "      <td>0.000000</td>\n",
       "      <td>0.000000</td>\n",
       "      <td>0.000000</td>\n",
       "      <td>0.0</td>\n",
       "    </tr>\n",
       "  </tbody>\n",
       "</table>\n",
       "</div>"
      ],
      "text/plain": [
       "           25         26         27         28    29         30         31  \\\n",
       "25   0.000000  66.111111   0.000000   0.000000   0.0   0.000000  66.111111   \n",
       "26  52.688889   0.000000  32.888889   0.000000   0.0   0.000000   0.000000   \n",
       "27   0.000000  66.111111  32.888889  41.951111   0.0   0.000000   0.000000   \n",
       "28   0.000000   0.000000  32.888889   0.000000  39.8   0.000000   0.000000   \n",
       "29   0.000000   0.000000   0.000000  41.951111   0.0   0.000000   0.000000   \n",
       "30   0.000000   0.000000   0.000000   0.000000   0.0   0.000000  66.111111   \n",
       "31  52.688889   0.000000   0.000000   0.000000   0.0  52.688889   0.000000   \n",
       "32   0.000000  66.111111   0.000000   0.000000   0.0   0.000000  66.111111   \n",
       "33   0.000000   0.000000  32.888889   0.000000   0.0   0.000000   0.000000   \n",
       "34   0.000000   0.000000   0.000000  41.951111   0.0   0.000000   0.000000   \n",
       "35   0.000000   0.000000   0.000000   0.000000   0.0   0.000000   0.000000   \n",
       "\n",
       "           32         33         34    35  \n",
       "25   0.000000   0.000000   0.000000   0.0  \n",
       "26  82.888889   0.000000   0.000000   0.0  \n",
       "27   0.000000  66.111111   0.000000   0.0  \n",
       "28   0.000000   0.000000  52.688889   0.0  \n",
       "29   0.000000   0.000000   0.000000  50.0  \n",
       "30   0.000000   0.000000   0.000000   0.0  \n",
       "31  82.888889   0.000000   0.000000   0.0  \n",
       "32   0.000000   0.000000   0.000000   0.0  \n",
       "33  82.888889   0.000000  52.688889   0.0  \n",
       "34   0.000000  66.111111   0.000000  50.0  \n",
       "35   0.000000   0.000000   0.000000   0.0  "
      ]
     },
     "metadata": {},
     "output_type": "display_data"
    }
   ],
   "source": [
    "q_learning.display_matrix(Q, 25)"
   ]
  },
  {
   "cell_type": "code",
   "execution_count": 5,
   "id": "fd9466d3-5f5f-44d4-90c7-834123ab5e43",
   "metadata": {},
   "outputs": [
    {
     "data": {
      "text/plain": [
       "[<matplotlib.lines.Line2D at 0x2b4278575040>]"
      ]
     },
     "execution_count": 5,
     "metadata": {},
     "output_type": "execute_result"
    },
    {
     "data": {
      "image/png": "[encoded data removed]",
      "text/plain": [
       "<Figure size 432x288 with 1 Axes>"
      ]
     },
     "metadata": {
      "needs_background": "light"
     },
     "output_type": "display_data"
    }
   ],
   "source": [
    "Rtot_avg = Rtot.cumsum() / np.arange(1, len(Rtot) + 1)\n",
    "plt.plot(np.arange(20, len(Rtot_avg)), Rtot_avg[20:])"
   ]
  },
  {
   "cell_type": "markdown",
   "id": "2b9a44f3-0a21-4c64-841d-4aca08e3d5a1",
   "metadata": {},
   "source": [
    "## Q Learning with some degree of randomness"
   ]
  },
  {
   "cell_type": "code",
   "execution_count": 6,
   "id": "63fad720-3500-4e6a-a62c-2399c9a5c1a3",
   "metadata": {},
   "outputs": [],
   "source": [
    "q_learning_with_randomness = Q_Learning_Randomness()\n",
    "q_learning_with_randomness.max_episodes = 5000\n",
    "q_learning_with_randomness.rewards={'r_time':-0.2,'r_pond':-20,'r_croissant':30,'r_cogs':30,'r_work':50}"
   ]
  },
  {
   "cell_type": "code",
   "execution_count": 7,
   "id": "e61b44e8-c314-4b72-bba1-83b813fbb941",
   "metadata": {},
   "outputs": [
    {
     "name": "stdout",
     "output_type": "stream",
     "text": [
      "CPU times: user 32.4 s, sys: 382 ms, total: 32.7 s\n",
      "Wall time: 32.4 s\n"
     ]
    }
   ],
   "source": [
    "%%time\n",
    "Q, Rtot = q_learning_with_randomness.learn(1,0.8,0.9)"
   ]
  },
  {
   "cell_type": "code",
   "execution_count": 10,
   "id": "6b28ebcc-9ceb-43e0-ab6a-4c46519946b7",
   "metadata": {},
   "outputs": [
    {
     "data": {
      "text/html": [
       "<div>\n",
       "<style scoped>\n",
       "    .dataframe tbody tr th:only-of-type {\n",
       "        vertical-align: middle;\n",
       "    }\n",
       "\n",
       "    .dataframe tbody tr th {\n",
       "        vertical-align: top;\n",
       "    }\n",
       "\n",
       "    .dataframe thead th {\n",
       "        text-align: right;\n",
       "    }\n",
       "</style>\n",
       "<table border=\"1\" class=\"dataframe\">\n",
       "  <thead>\n",
       "    <tr style=\"text-align: right;\">\n",
       "      <th></th>\n",
       "      <th>25</th>\n",
       "      <th>26</th>\n",
       "      <th>27</th>\n",
       "      <th>28</th>\n",
       "      <th>29</th>\n",
       "      <th>30</th>\n",
       "      <th>31</th>\n",
       "      <th>32</th>\n",
       "      <th>33</th>\n",
       "      <th>34</th>\n",
       "      <th>35</th>\n",
       "    </tr>\n",
       "  </thead>\n",
       "  <tbody>\n",
       "    <tr>\n",
       "      <th>25</th>\n",
       "      <td>0.0</td>\n",
       "      <td>19.8</td>\n",
       "      <td>0.0</td>\n",
       "      <td>0.0</td>\n",
       "      <td>0.0</td>\n",
       "      <td>0.0</td>\n",
       "      <td>25.4</td>\n",
       "      <td>0.0</td>\n",
       "      <td>0.0</td>\n",
       "      <td>0.0</td>\n",
       "      <td>0.0</td>\n",
       "    </tr>\n",
       "    <tr>\n",
       "      <th>26</th>\n",
       "      <td>19.0</td>\n",
       "      <td>0.0</td>\n",
       "      <td>0.8</td>\n",
       "      <td>0.0</td>\n",
       "      <td>0.0</td>\n",
       "      <td>0.0</td>\n",
       "      <td>0.0</td>\n",
       "      <td>50.8</td>\n",
       "      <td>0.0</td>\n",
       "      <td>0.0</td>\n",
       "      <td>0.0</td>\n",
       "    </tr>\n",
       "    <tr>\n",
       "      <th>27</th>\n",
       "      <td>0.0</td>\n",
       "      <td>15.8</td>\n",
       "      <td>6.4</td>\n",
       "      <td>23.0</td>\n",
       "      <td>0.0</td>\n",
       "      <td>0.0</td>\n",
       "      <td>0.0</td>\n",
       "      <td>0.0</td>\n",
       "      <td>25.4</td>\n",
       "      <td>0.0</td>\n",
       "      <td>0.0</td>\n",
       "    </tr>\n",
       "    <tr>\n",
       "      <th>28</th>\n",
       "      <td>0.0</td>\n",
       "      <td>0.0</td>\n",
       "      <td>0.8</td>\n",
       "      <td>0.0</td>\n",
       "      <td>27.8</td>\n",
       "      <td>0.0</td>\n",
       "      <td>0.0</td>\n",
       "      <td>0.0</td>\n",
       "      <td>0.0</td>\n",
       "      <td>27.8</td>\n",
       "      <td>0.0</td>\n",
       "    </tr>\n",
       "    <tr>\n",
       "      <th>29</th>\n",
       "      <td>0.0</td>\n",
       "      <td>0.0</td>\n",
       "      <td>0.0</td>\n",
       "      <td>27.0</td>\n",
       "      <td>0.0</td>\n",
       "      <td>0.0</td>\n",
       "      <td>0.0</td>\n",
       "      <td>0.0</td>\n",
       "      <td>0.0</td>\n",
       "      <td>0.0</td>\n",
       "      <td>77.2</td>\n",
       "    </tr>\n",
       "    <tr>\n",
       "      <th>30</th>\n",
       "      <td>0.0</td>\n",
       "      <td>0.0</td>\n",
       "      <td>0.0</td>\n",
       "      <td>0.0</td>\n",
       "      <td>0.0</td>\n",
       "      <td>0.0</td>\n",
       "      <td>19.8</td>\n",
       "      <td>0.0</td>\n",
       "      <td>0.0</td>\n",
       "      <td>0.0</td>\n",
       "      <td>0.0</td>\n",
       "    </tr>\n",
       "    <tr>\n",
       "      <th>31</th>\n",
       "      <td>19.0</td>\n",
       "      <td>0.0</td>\n",
       "      <td>0.0</td>\n",
       "      <td>0.0</td>\n",
       "      <td>0.0</td>\n",
       "      <td>24.6</td>\n",
       "      <td>0.0</td>\n",
       "      <td>50.8</td>\n",
       "      <td>0.0</td>\n",
       "      <td>0.0</td>\n",
       "      <td>0.0</td>\n",
       "    </tr>\n",
       "    <tr>\n",
       "      <th>32</th>\n",
       "      <td>0.0</td>\n",
       "      <td>21.4</td>\n",
       "      <td>0.0</td>\n",
       "      <td>0.0</td>\n",
       "      <td>0.0</td>\n",
       "      <td>0.0</td>\n",
       "      <td>25.4</td>\n",
       "      <td>0.0</td>\n",
       "      <td>0.0</td>\n",
       "      <td>0.0</td>\n",
       "      <td>0.0</td>\n",
       "    </tr>\n",
       "    <tr>\n",
       "      <th>33</th>\n",
       "      <td>0.0</td>\n",
       "      <td>0.0</td>\n",
       "      <td>0.8</td>\n",
       "      <td>0.0</td>\n",
       "      <td>0.0</td>\n",
       "      <td>0.0</td>\n",
       "      <td>0.0</td>\n",
       "      <td>50.8</td>\n",
       "      <td>0.0</td>\n",
       "      <td>22.2</td>\n",
       "      <td>0.0</td>\n",
       "    </tr>\n",
       "    <tr>\n",
       "      <th>34</th>\n",
       "      <td>0.0</td>\n",
       "      <td>0.0</td>\n",
       "      <td>0.0</td>\n",
       "      <td>17.4</td>\n",
       "      <td>0.0</td>\n",
       "      <td>0.0</td>\n",
       "      <td>0.0</td>\n",
       "      <td>0.0</td>\n",
       "      <td>27.0</td>\n",
       "      <td>0.0</td>\n",
       "      <td>77.2</td>\n",
       "    </tr>\n",
       "    <tr>\n",
       "      <th>35</th>\n",
       "      <td>0.0</td>\n",
       "      <td>0.0</td>\n",
       "      <td>0.0</td>\n",
       "      <td>0.0</td>\n",
       "      <td>0.0</td>\n",
       "      <td>0.0</td>\n",
       "      <td>0.0</td>\n",
       "      <td>0.0</td>\n",
       "      <td>0.0</td>\n",
       "      <td>0.0</td>\n",
       "      <td>0.0</td>\n",
       "    </tr>\n",
       "  </tbody>\n",
       "</table>\n",
       "</div>"
      ],
      "text/plain": [
       "      25    26   27    28    29    30    31    32    33    34    35\n",
       "25   0.0  19.8  0.0   0.0   0.0   0.0  25.4   0.0   0.0   0.0   0.0\n",
       "26  19.0   0.0  0.8   0.0   0.0   0.0   0.0  50.8   0.0   0.0   0.0\n",
       "27   0.0  15.8  6.4  23.0   0.0   0.0   0.0   0.0  25.4   0.0   0.0\n",
       "28   0.0   0.0  0.8   0.0  27.8   0.0   0.0   0.0   0.0  27.8   0.0\n",
       "29   0.0   0.0  0.0  27.0   0.0   0.0   0.0   0.0   0.0   0.0  77.2\n",
       "30   0.0   0.0  0.0   0.0   0.0   0.0  19.8   0.0   0.0   0.0   0.0\n",
       "31  19.0   0.0  0.0   0.0   0.0  24.6   0.0  50.8   0.0   0.0   0.0\n",
       "32   0.0  21.4  0.0   0.0   0.0   0.0  25.4   0.0   0.0   0.0   0.0\n",
       "33   0.0   0.0  0.8   0.0   0.0   0.0   0.0  50.8   0.0  22.2   0.0\n",
       "34   0.0   0.0  0.0  17.4   0.0   0.0   0.0   0.0  27.0   0.0  77.2\n",
       "35   0.0   0.0  0.0   0.0   0.0   0.0   0.0   0.0   0.0   0.0   0.0"
      ]
     },
     "metadata": {},
     "output_type": "display_data"
    }
   ],
   "source": [
    "q_learning.display_matrix(Q, 25)"
   ]
  },
  {
   "cell_type": "code",
   "execution_count": 11,
   "id": "afb1b797-8fa2-481c-8c0e-01ebd2261cd2",
   "metadata": {},
   "outputs": [
    {
     "data": {
      "text/plain": [
       "[<matplotlib.lines.Line2D at 0x2b4278e06fd0>]"
      ]
     },
     "execution_count": 11,
     "metadata": {},
     "output_type": "execute_result"
    },
    {
     "data": {
      "image/png": "[encoded data removed]",
      "text/plain": [
       "<Figure size 432x288 with 1 Axes>"
      ]
     },
     "metadata": {
      "needs_background": "light"
     },
     "output_type": "display_data"
    }
   ],
   "source": [
    "Rtot_avg = Rtot.cumsum() / np.arange(1, len(Rtot) + 1)\n",
    "plt.plot(np.arange(20, len(Rtot_avg)), Rtot_avg[20:])"
   ]
  },
  {
   "cell_type": "markdown",
   "id": "ce5dc552-103f-42ca-92db-ea33f6bf5991",
   "metadata": {},
   "source": [
    "## SARSA algorithm"
   ]
  },
  {
   "cell_type": "code",
   "execution_count": 12,
   "id": "d5609faa-c5fb-4f90-bf1c-caeaea5fd044",
   "metadata": {},
   "outputs": [],
   "source": [
    "sarsa_learning = SARSA_learning()\n",
    "sarsa_learning.max_episodes = 5000\n",
    "sarsa_learning.rewards={'r_time':-0.2,'r_pond':-20,'r_croissant':30,'r_cogs':30,'r_work':50}"
   ]
  },
  {
   "cell_type": "code",
   "execution_count": 13,
   "id": "d2f60b58-23da-49ee-a181-8d19c61688c3",
   "metadata": {},
   "outputs": [
    {
     "name": "stdout",
     "output_type": "stream",
     "text": [
      "CPU times: user 49.5 s, sys: 657 ms, total: 50.2 s\n",
      "Wall time: 49.6 s\n"
     ]
    }
   ],
   "source": [
    "%%time\n",
    "Q, Rtot = sarsa_learning.learn(1,0.8,0.9)"
   ]
  },
  {
   "cell_type": "code",
   "execution_count": 14,
   "id": "ef2644fb-e293-4676-8ff3-0e26a3bbd72f",
   "metadata": {},
   "outputs": [
    {
     "data": {
      "text/html": [
       "<div>\n",
       "<style scoped>\n",
       "    .dataframe tbody tr th:only-of-type {\n",
       "        vertical-align: middle;\n",
       "    }\n",
       "\n",
       "    .dataframe tbody tr th {\n",
       "        vertical-align: top;\n",
       "    }\n",
       "\n",
       "    .dataframe thead th {\n",
       "        text-align: right;\n",
       "    }\n",
       "</style>\n",
       "<table border=\"1\" class=\"dataframe\">\n",
       "  <thead>\n",
       "    <tr style=\"text-align: right;\">\n",
       "      <th></th>\n",
       "      <th>25</th>\n",
       "      <th>26</th>\n",
       "      <th>27</th>\n",
       "      <th>28</th>\n",
       "      <th>29</th>\n",
       "      <th>30</th>\n",
       "      <th>31</th>\n",
       "      <th>32</th>\n",
       "      <th>33</th>\n",
       "      <th>34</th>\n",
       "      <th>35</th>\n",
       "    </tr>\n",
       "  </thead>\n",
       "  <tbody>\n",
       "    <tr>\n",
       "      <th>25</th>\n",
       "      <td>0.000000</td>\n",
       "      <td>-6.331060</td>\n",
       "      <td>0.000000</td>\n",
       "      <td>0.000000</td>\n",
       "      <td>0.000000</td>\n",
       "      <td>0.000000</td>\n",
       "      <td>38.743461</td>\n",
       "      <td>0.000000</td>\n",
       "      <td>0.0000</td>\n",
       "      <td>0.00000</td>\n",
       "      <td>0.0</td>\n",
       "    </tr>\n",
       "    <tr>\n",
       "      <th>26</th>\n",
       "      <td>-1.146109</td>\n",
       "      <td>0.000000</td>\n",
       "      <td>10.994769</td>\n",
       "      <td>0.000000</td>\n",
       "      <td>0.000000</td>\n",
       "      <td>0.000000</td>\n",
       "      <td>0.000000</td>\n",
       "      <td>48.679327</td>\n",
       "      <td>0.0000</td>\n",
       "      <td>0.00000</td>\n",
       "      <td>0.0</td>\n",
       "    </tr>\n",
       "    <tr>\n",
       "      <th>27</th>\n",
       "      <td>0.000000</td>\n",
       "      <td>38.743461</td>\n",
       "      <td>-4.088320</td>\n",
       "      <td>-2.115037</td>\n",
       "      <td>0.000000</td>\n",
       "      <td>0.000000</td>\n",
       "      <td>0.000000</td>\n",
       "      <td>0.000000</td>\n",
       "      <td>19.8896</td>\n",
       "      <td>0.00000</td>\n",
       "      <td>0.0</td>\n",
       "    </tr>\n",
       "    <tr>\n",
       "      <th>28</th>\n",
       "      <td>0.000000</td>\n",
       "      <td>0.000000</td>\n",
       "      <td>-26.626896</td>\n",
       "      <td>0.000000</td>\n",
       "      <td>-14.300902</td>\n",
       "      <td>0.000000</td>\n",
       "      <td>0.000000</td>\n",
       "      <td>0.000000</td>\n",
       "      <td>0.0000</td>\n",
       "      <td>15.71168</td>\n",
       "      <td>0.0</td>\n",
       "    </tr>\n",
       "    <tr>\n",
       "      <th>29</th>\n",
       "      <td>0.000000</td>\n",
       "      <td>0.000000</td>\n",
       "      <td>0.000000</td>\n",
       "      <td>-17.626128</td>\n",
       "      <td>0.000000</td>\n",
       "      <td>0.000000</td>\n",
       "      <td>0.000000</td>\n",
       "      <td>0.000000</td>\n",
       "      <td>0.0000</td>\n",
       "      <td>0.00000</td>\n",
       "      <td>50.0</td>\n",
       "    </tr>\n",
       "    <tr>\n",
       "      <th>30</th>\n",
       "      <td>0.000000</td>\n",
       "      <td>0.000000</td>\n",
       "      <td>0.000000</td>\n",
       "      <td>0.000000</td>\n",
       "      <td>0.000000</td>\n",
       "      <td>0.000000</td>\n",
       "      <td>6.086564</td>\n",
       "      <td>0.000000</td>\n",
       "      <td>0.0000</td>\n",
       "      <td>0.00000</td>\n",
       "      <td>0.0</td>\n",
       "    </tr>\n",
       "    <tr>\n",
       "      <th>31</th>\n",
       "      <td>18.259288</td>\n",
       "      <td>0.000000</td>\n",
       "      <td>0.000000</td>\n",
       "      <td>0.000000</td>\n",
       "      <td>0.000000</td>\n",
       "      <td>7.858205</td>\n",
       "      <td>0.000000</td>\n",
       "      <td>31.522125</td>\n",
       "      <td>0.0000</td>\n",
       "      <td>0.00000</td>\n",
       "      <td>0.0</td>\n",
       "    </tr>\n",
       "    <tr>\n",
       "      <th>32</th>\n",
       "      <td>0.000000</td>\n",
       "      <td>-18.816525</td>\n",
       "      <td>0.000000</td>\n",
       "      <td>0.000000</td>\n",
       "      <td>0.000000</td>\n",
       "      <td>0.000000</td>\n",
       "      <td>14.407430</td>\n",
       "      <td>0.000000</td>\n",
       "      <td>0.0000</td>\n",
       "      <td>0.00000</td>\n",
       "      <td>0.0</td>\n",
       "    </tr>\n",
       "    <tr>\n",
       "      <th>33</th>\n",
       "      <td>0.000000</td>\n",
       "      <td>0.000000</td>\n",
       "      <td>5.312000</td>\n",
       "      <td>0.000000</td>\n",
       "      <td>0.000000</td>\n",
       "      <td>0.000000</td>\n",
       "      <td>0.000000</td>\n",
       "      <td>28.872353</td>\n",
       "      <td>0.0000</td>\n",
       "      <td>15.71168</td>\n",
       "      <td>0.0</td>\n",
       "    </tr>\n",
       "    <tr>\n",
       "      <th>34</th>\n",
       "      <td>0.000000</td>\n",
       "      <td>0.000000</td>\n",
       "      <td>0.000000</td>\n",
       "      <td>-26.978325</td>\n",
       "      <td>0.000000</td>\n",
       "      <td>0.000000</td>\n",
       "      <td>0.000000</td>\n",
       "      <td>0.000000</td>\n",
       "      <td>19.8896</td>\n",
       "      <td>0.00000</td>\n",
       "      <td>50.0</td>\n",
       "    </tr>\n",
       "    <tr>\n",
       "      <th>35</th>\n",
       "      <td>0.000000</td>\n",
       "      <td>0.000000</td>\n",
       "      <td>0.000000</td>\n",
       "      <td>0.000000</td>\n",
       "      <td>0.000000</td>\n",
       "      <td>0.000000</td>\n",
       "      <td>0.000000</td>\n",
       "      <td>0.000000</td>\n",
       "      <td>0.0000</td>\n",
       "      <td>0.00000</td>\n",
       "      <td>0.0</td>\n",
       "    </tr>\n",
       "  </tbody>\n",
       "</table>\n",
       "</div>"
      ],
      "text/plain": [
       "           25         26         27         28         29        30  \\\n",
       "25   0.000000  -6.331060   0.000000   0.000000   0.000000  0.000000   \n",
       "26  -1.146109   0.000000  10.994769   0.000000   0.000000  0.000000   \n",
       "27   0.000000  38.743461  -4.088320  -2.115037   0.000000  0.000000   \n",
       "28   0.000000   0.000000 -26.626896   0.000000 -14.300902  0.000000   \n",
       "29   0.000000   0.000000   0.000000 -17.626128   0.000000  0.000000   \n",
       "30   0.000000   0.000000   0.000000   0.000000   0.000000  0.000000   \n",
       "31  18.259288   0.000000   0.000000   0.000000   0.000000  7.858205   \n",
       "32   0.000000 -18.816525   0.000000   0.000000   0.000000  0.000000   \n",
       "33   0.000000   0.000000   5.312000   0.000000   0.000000  0.000000   \n",
       "34   0.000000   0.000000   0.000000 -26.978325   0.000000  0.000000   \n",
       "35   0.000000   0.000000   0.000000   0.000000   0.000000  0.000000   \n",
       "\n",
       "           31         32       33        34    35  \n",
       "25  38.743461   0.000000   0.0000   0.00000   0.0  \n",
       "26   0.000000  48.679327   0.0000   0.00000   0.0  \n",
       "27   0.000000   0.000000  19.8896   0.00000   0.0  \n",
       "28   0.000000   0.000000   0.0000  15.71168   0.0  \n",
       "29   0.000000   0.000000   0.0000   0.00000  50.0  \n",
       "30   6.086564   0.000000   0.0000   0.00000   0.0  \n",
       "31   0.000000  31.522125   0.0000   0.00000   0.0  \n",
       "32  14.407430   0.000000   0.0000   0.00000   0.0  \n",
       "33   0.000000  28.872353   0.0000  15.71168   0.0  \n",
       "34   0.000000   0.000000  19.8896   0.00000  50.0  \n",
       "35   0.000000   0.000000   0.0000   0.00000   0.0  "
      ]
     },
     "metadata": {},
     "output_type": "display_data"
    }
   ],
   "source": [
    "sarsa_learning.display_matrix(Q, 25)"
   ]
  },
  {
   "cell_type": "code",
   "execution_count": 15,
   "id": "701e60ac-9fba-44f2-a80a-8ab3e63327a9",
   "metadata": {},
   "outputs": [
    {
     "data": {
      "text/plain": [
       "[<matplotlib.lines.Line2D at 0x2b4278e66a00>]"
      ]
     },
     "execution_count": 15,
     "metadata": {},
     "output_type": "execute_result"
    },
    {
     "data": {
      "image/png": "[encoded data removed]",
      "text/plain": [
       "<Figure size 432x288 with 1 Axes>"
      ]
     },
     "metadata": {
      "needs_background": "light"
     },
     "output_type": "display_data"
    }
   ],
   "source": [
    "Rtot_avg = Rtot.cumsum() / np.arange(1, len(Rtot) + 1)\n",
    "plt.plot(np.arange(20, len(Rtot_avg)), Rtot_avg[20:])"
   ]
  },
  {
   "cell_type": "markdown",
   "id": "f9fc92a8-51ea-4f8d-aee9-c6aaeb69a456",
   "metadata": {},
   "source": [
    "## Playing with some params"
   ]
  },
  {
   "cell_type": "code",
   "execution_count": 7,
   "id": "202973bf-2b27-4102-a181-974ab9a54deb",
   "metadata": {},
   "outputs": [],
   "source": [
    "alpha_list = [0.9, 0.6, 0.3]\n",
    "gamma_list = [0.9, 0.6, 0.3]\n",
    "R_alpha_list = []\n",
    "R_gamma_list = []\n",
    "colors= ['r', 'b', 'g']"
   ]
  },
  {
   "cell_type": "code",
   "execution_count": 8,
   "id": "f459d372-7047-499a-b453-28108401ee5c",
   "metadata": {},
   "outputs": [],
   "source": [
    "robotEnv = Q_Learning()\n",
    "robotEnv.max_episodes = 5000\n",
    "robotEnv.rewards={'r_time':-0.2,'r_pond':-20,'r_croissant':30,'r_cogs':30,'r_work':50}"
   ]
  },
  {
   "cell_type": "code",
   "execution_count": 9,
   "id": "67201ff4-59f1-4936-a37d-c8771dfb470c",
   "metadata": {},
   "outputs": [
    {
     "name": "stdout",
     "output_type": "stream",
     "text": [
      "0.9\n",
      "0.6\n",
      "0.3\n"
     ]
    }
   ],
   "source": [
    "for alpha in alpha_list:\n",
    "    print(alpha)"
   ]
  },
  {
   "cell_type": "code",
   "execution_count": 10,
   "id": "8568ceb2-33f3-404e-abfc-961e50c5ca41",
   "metadata": {},
   "outputs": [],
   "source": [
    "for alpha in alpha_list:\n",
    "    Q, Rtot = robotEnv.Q_learning(alpha,0.9,0.9)\n",
    "    #print(Rtot)\n",
    "    R_alpha_list.append(Rtot)"
   ]
  },
  {
   "cell_type": "code",
   "execution_count": 11,
   "id": "6cbd8bd5-b352-4209-bcc5-04fe57e5d839",
   "metadata": {},
   "outputs": [],
   "source": [
    "for gamma in gamma_list:\n",
    "    Q, Rtot = robotEnv.Q_learning(0.9,gamma,0.9)\n",
    "    #print(Rtot)\n",
    "    R_gamma_list.append(Rtot)"
   ]
  },
  {
   "cell_type": "code",
   "execution_count": 12,
   "id": "ceefbb8f-0c4e-471c-b1d6-442a7f94c807",
   "metadata": {},
   "outputs": [
    {
     "data": {
      "text/plain": [
       "[array([ 36.2, -20.2,  90.8, ..., 127. ,  62.6, -22.4]),\n",
       " array([ 178.6,  232. ,  354. , ..., -125.8,  133. ,   85.4]),\n",
       " array([ 12.6, 401.2,  30.6, ...,  40. ,  24.4, 265.4])]"
      ]
     },
     "execution_count": 12,
     "metadata": {},
     "output_type": "execute_result"
    }
   ],
   "source": [
    "R_alpha_list"
   ]
  },
  {
   "cell_type": "code",
   "execution_count": 13,
   "id": "cc95be26-2270-4eed-8705-bd6f1941b79b",
   "metadata": {},
   "outputs": [
    {
     "data": {
      "text/plain": [
       "[array([-120.2,  184.2,  274. , ...,  772.4,  -60.4,  233.8]),\n",
       " array([-13.2,  40.2,  11.2, ...,  36.8, 199.6, -10.6]),\n",
       " array([717. , 237.2, -82.4, ...,  47.4, 290.4,  47.4])]"
      ]
     },
     "execution_count": 13,
     "metadata": {},
     "output_type": "execute_result"
    }
   ],
   "source": [
    "R_gamma_list"
   ]
  },
  {
   "cell_type": "code",
   "execution_count": 14,
   "id": "dea32ce9-d797-4a52-a729-59c12bc49128",
   "metadata": {},
   "outputs": [
    {
     "data": {
      "image/png": "[encoded data removed]",
      "text/plain": [
       "<Figure size 432x288 with 1 Axes>"
      ]
     },
     "metadata": {
      "needs_background": "light"
     },
     "output_type": "display_data"
    }
   ],
   "source": [
    "for i in range(len(alpha_list)):\n",
    "    Rtot = R_alpha_list[i]\n",
    "    Rtot_avg = Rtot.cumsum() / np.arange(1, len(Rtot) + 1)\n",
    "    plt.plot(np.arange(20, len(Rtot_avg)), Rtot_avg[20:], colors[i], label=f'alpha={alpha_list[i]},gamma=0.9,eps=0.9')\n",
    "    plt.legend(loc=\"upper right\")\n",
    "    \n",
    "plt.xlabel('episodes')\n",
    "plt.ylabel('R')\n",
    "plt.title('Average total reward with different alpha values', fontsize=12, pad=20)\n",
    "plt.show()"
   ]
  },
  {
   "cell_type": "code",
   "execution_count": 15,
   "id": "0947102c-abba-470d-a31c-eb2bbe08bc57",
   "metadata": {},
   "outputs": [
    {
     "data": {
      "image/png": "[encoded data removed]",
      "text/plain": [
       "<Figure size 432x288 with 1 Axes>"
      ]
     },
     "metadata": {
      "needs_background": "light"
     },
     "output_type": "display_data"
    }
   ],
   "source": [
    "for i in range(len(gamma_list)):\n",
    "    Rtot = R_gamma_list[i]\n",
    "    Rtot_avg = Rtot.cumsum() / np.arange(1, len(Rtot) + 1)\n",
    "    plt.plot(np.arange(20, len(Rtot_avg)), Rtot_avg[20:], colors[i], label=f'alpha=0.9,gamma={gamma_list[i]},eps=0.9')\n",
    "    plt.legend(loc=\"upper right\")\n",
    "\n",
    "\n",
    "plt.xlabel('episodes')\n",
    "plt.ylabel('R')    \n",
    "plt.title('Average total reward with different gamma values', fontsize=12, pad=20)\n",
    "plt.show()"
   ]
  },
  {
   "cell_type": "code",
   "execution_count": null,
   "id": "a951902f-bc5d-48ba-8d53-68b1aa533336",
   "metadata": {},
   "outputs": [],
   "source": []
  }
 ],
 "metadata": {
  "kernelspec": {
   "display_name": "Python 3 (ipykernel)",
   "language": "python",
   "name": "python3"
  },
  "language_info": {
   "codemirror_mode": {
    "name": "ipython",
    "version": 3
   },
   "file_extension": ".py",
   "mimetype": "text/x-python",
   "name": "python",
   "nbconvert_exporter": "python",
   "pygments_lexer": "ipython3",
   "version": "3.7.11"
  }
 },
 "nbformat": 4,
 "nbformat_minor": 5
}

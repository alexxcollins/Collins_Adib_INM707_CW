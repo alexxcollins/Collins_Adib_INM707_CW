{
 "cells": [
  {
   "cell_type": "markdown",
   "id": "840c0903-4529-4bac-8a89-80005b6584d6",
   "metadata": {
    "tags": []
   },
   "source": [
    "# Start simple: show the class works for a small grid"
   ]
  },
  {
   "cell_type": "code",
   "execution_count": 1,
   "id": "4739e641-2108-4882-ac7b-fc9fba71673d",
   "metadata": {},
   "outputs": [],
   "source": [
    "import numpy as np\n",
    "from grid import WorkJourney"
   ]
  },
  {
   "cell_type": "code",
   "execution_count": 2,
   "id": "1b69f315-0653-4c83-b7ad-34d9b9d45429",
   "metadata": {},
   "outputs": [],
   "source": [
    "reward_dict = {'r_time' : -1, \n",
    "               'r_pond' : -15,\n",
    "               'r_croissant' : 200,\n",
    "               'r_cogs' : 200,\n",
    "               'r_work' : 15}\n",
    "ob = WorkJourney(reward_dict, max_steps=500, max_episodes=2000, \n",
    "                 start_state=6, goal_state=35)\n"
   ]
  },
  {
   "cell_type": "code",
   "execution_count": null,
   "id": "4df3a75d-439e-46a3-aae2-5e67ebc47ec7",
   "metadata": {},
   "outputs": [],
   "source": []
  }
 ],
 "metadata": {
  "kernelspec": {
   "display_name": "Python 3 (ipykernel)",
   "language": "python",
   "name": "python3"
  },
  "language_info": {
   "codemirror_mode": {
    "name": "ipython",
    "version": 3
   },
   "file_extension": ".py",
   "mimetype": "text/x-python",
   "name": "python",
   "nbconvert_exporter": "python",
   "pygments_lexer": "ipython3",
   "version": "3.9.10"
  }
 },
 "nbformat": 4,
 "nbformat_minor": 5
}

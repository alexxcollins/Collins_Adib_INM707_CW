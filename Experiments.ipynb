{
  "cells": [
    {
      "cell_type": "markdown",
      "source": [
        "# **Import Libraries**"
      ],
      "metadata": {
        "id": "XqQFG-UPmaxF"
      }
    },
    {
      "cell_type": "code",
      "source": [
        "from RobotEnvClass import Q_Learning, SARSA_learning, Q_Learning_Randomness\n",
        "import numpy as np\n",
        "import matplotlib.pyplot as plt"
      ],
      "metadata": {
        "id": "Q-UhB7NQb3hO"
      },
      "execution_count": 1,
      "outputs": []
    },
    {
      "cell_type": "markdown",
      "source": [
        "# **Write some functions**"
      ],
      "metadata": {
        "id": "zRbe5y0ymlZ0"
      }
    },
    {
      "cell_type": "code",
      "source": [
        "def find_path(Q):\n",
        "    state = 6\n",
        "    path = [state]\n",
        "    #path = []\n",
        "    end_state = False\n",
        "    \n",
        "    while not end_state:\n",
        "        old_state = state\n",
        "        state = np.where(Q[old_state,] == Q[old_state,].max())[0][0]\n",
        "        if state not in path:\n",
        "            path.append(state)\n",
        "            if state == 35:\n",
        "                end_state = True\n",
        "                \n",
        "        elif state == old_state:\n",
        "            print(\"The Agent chose to stay in his position\")\n",
        "            end_state = True\n",
        "            \n",
        "        else:\n",
        "            print(\"The Agent stucked into a loop\")\n",
        "            end_state = True\n",
        "    \n",
        "    \n",
        "    return path"
      ],
      "metadata": {
        "id": "Yhd_mXEGb4qT"
      },
      "execution_count": 2,
      "outputs": []
    },
    {
      "cell_type": "code",
      "source": [
        "def calculate_rewards(R_matrix, path):\n",
        "    r = 0\n",
        "    steps = 0\n",
        "    for idx in range(len(path)-1):\n",
        "        r += R_matrix[path[idx], path[idx+1]]\n",
        "        steps += 1\n",
        "    return r,steps"
      ],
      "metadata": {
        "id": "P6GVDTNTb52j"
      },
      "execution_count": 3,
      "outputs": []
    },
    {
      "cell_type": "code",
      "source": [
        "def path_in_grids(path, dims):\n",
        "    return [(cell//dims[1], cell%dims[0]) for cell in path]"
      ],
      "metadata": {
        "id": "61DAAC86fHcB"
      },
      "execution_count": 4,
      "outputs": []
    },
    {
      "cell_type": "code",
      "source": [
        "def average_R_display(Rtot):\n",
        "  Rtot_avg = Rtot.cumsum() / np.arange(1, len(Rtot) + 1)\n",
        "  plt.plot(np.arange(20, len(Rtot_avg)), Rtot_avg[20:])\n",
        "  plt.title(\"Average Rewards per episode\")\n",
        "  plt.show()"
      ],
      "metadata": {
        "id": "wKxbuTr_fjml"
      },
      "execution_count": 9,
      "outputs": []
    },
    {
      "cell_type": "code",
      "source": [
        "def steps_plot(a_hist):\n",
        "  y = []\n",
        "  x = np.arange(len(a_hist))\n",
        "  for his in a_hist:\n",
        "    y.append(len(his))\n",
        "    \n",
        "  y_avg = np.cumsum(y) / np.arange(1, len(y) + 1)\n",
        "  plt.plot(np.arange(20, len(y_avg)), y_avg[20:])\n",
        "  plt.title(\"Average steps per episode\")\n",
        "  plt.show()"
      ],
      "metadata": {
        "id": "Lh5ARBRWfyZs"
      },
      "execution_count": 10,
      "outputs": []
    },
    {
      "cell_type": "markdown",
      "source": [
        "# **Experiments**"
      ],
      "metadata": {
        "id": "HiUMRqbSmuwa"
      }
    },
    {
      "cell_type": "markdown",
      "source": [
        "## **Experiments 1**"
      ],
      "metadata": {
        "id": "0Dhkyyw6m1j6"
      }
    },
    {
      "cell_type": "code",
      "source": [
        "q_learning = Q_Learning()\n",
        "q_learning.max_episodes = 1000\n",
        "q_learning.rewards={'r_time':0,'r_pond':0,'r_croissant':0,'r_cogs':0,'r_work':20}\n",
        "q_learning.tubes=[[(0, 0), (1,5)], [(1, 2), (4, 1)]]\n",
        "q_learning.epsilon_decays={'epsilon_threshold': 0.5, 'epsilon_decay1': 0.9999, 'epsilon_decay2': 0.999}\n",
        "print(q_learning.visualise_world())"
      ],
      "metadata": {
        "id": "NuiOxXVWb7eV",
        "colab": {
          "base_uri": "https://localhost:8080/"
        },
        "outputId": "46fc627c-db36-48ec-f7d9-f56d53f77eec"
      },
      "execution_count": 17,
      "outputs": [
        {
          "output_type": "stream",
          "name": "stdout",
          "text": [
            "\n",
            "X  X  X  X  X  X  X  X  X  X  X  X  X  \n",
            "X  T0    .     .  X  .     .     .  X  \n",
            "X                                   X  \n",
            "X  S     .     T1 X  .     C     T0 X  \n",
            "X                                X  X  \n",
            "X  .     .     .  X  .     P     .  X  \n",
            "X                                   X  \n",
            "X  .     .     .     .     .     .  X  \n",
            "X  X     X                          X  \n",
            "X  .     T1    .     P     .     .  X  \n",
            "X                                   X  \n",
            "X  .     .     G  X  .     .     E  X  \n",
            "X  X  X  X  X  X  X  X  X  X  X  X  X  \n",
            "\n",
            "key:\n",
            "S  = start location for agent\n",
            "E  = end location for agent\n",
            ".  = empty cell\n",
            "X  = boundary or wall beetween cells\n",
            "Tn = nth Tube start or end. Agent can travel between the two Tn in one time step\n",
            "P  = pond: falling in is cold and wet\n",
            "G  = cog: agent is rewarded for collecting\n",
            "C  = croissant: agent is rewarded for collecting\n",
            "\n"
          ]
        }
      ]
    },
    {
      "cell_type": "code",
      "source": [
        "%%time\n",
        "a_hist, Q_hist, Rtot = q_learning.learn(0.1,0.6,0.9)"
      ],
      "metadata": {
        "colab": {
          "base_uri": "https://localhost:8080/"
        },
        "id": "I9qZ8ONRex4q",
        "outputId": "7ce3292c-bc47-43c1-c4fa-374bfbac20a7"
      },
      "execution_count": 18,
      "outputs": [
        {
          "output_type": "stream",
          "name": "stdout",
          "text": [
            "CPU times: user 3.33 s, sys: 95.4 ms, total: 3.43 s\n",
            "Wall time: 3.32 s\n"
          ]
        }
      ]
    },
    {
      "cell_type": "code",
      "source": [
        "average_R_display(Rtot)"
      ],
      "metadata": {
        "colab": {
          "base_uri": "https://localhost:8080/",
          "height": 281
        },
        "id": "y0SzkK39lH7c",
        "outputId": "6d65e861-1434-4389-c8cd-2a9c81331c24"
      },
      "execution_count": 19,
      "outputs": [
        {
          "output_type": "display_data",
          "data": {
            "text/plain": [
              "<Figure size 432x288 with 1 Axes>"
            ],
            "image/png": "[encoded data removed]"
          },
          "metadata": {
            "needs_background": "light"
          }
        }
      ]
    },
    {
      "cell_type": "code",
      "source": [
        "steps_plot(a_hist)"
      ],
      "metadata": {
        "colab": {
          "base_uri": "https://localhost:8080/",
          "height": 281
        },
        "id": "NWOvIR9YzSYq",
        "outputId": "b95e6c4d-eead-4b0c-d5aa-de94153e1b90"
      },
      "execution_count": 20,
      "outputs": [
        {
          "output_type": "display_data",
          "data": {
            "text/plain": [
              "<Figure size 432x288 with 1 Axes>"
            ],
            "image/png": "[encoded data removed]"
          },
          "metadata": {
            "needs_background": "light"
          }
        }
      ]
    },
    {
      "cell_type": "code",
      "source": [
        "path = find_path(Q_hist[-1])\n",
        "r, steps = calculate_rewards(q_learning.R, path)\n",
        "print(\"Path: \",path)\n",
        "print(\"Path in grid coords: \", path_in_grids(path, q_learning.dims))\n",
        "print(\"Total Rewards: \", r)\n",
        "print(\"Number of steps: \",steps)"
      ],
      "metadata": {
        "colab": {
          "base_uri": "https://localhost:8080/"
        },
        "id": "dmZqqO2JfPSd",
        "outputId": "c44bd812-0762-4f3a-e4a0-e2218802874b"
      },
      "execution_count": 21,
      "outputs": [
        {
          "output_type": "stream",
          "name": "stdout",
          "text": [
            "Path:  [6, 0, 11, 10, 16, 22, 23, 29, 35]\n",
            "Path in grid coords:  [(1, 0), (0, 0), (1, 5), (1, 4), (2, 4), (3, 4), (3, 5), (4, 5), (5, 5)]\n",
            "Total Rewards:  20.0\n",
            "Number of steps:  8\n"
          ]
        }
      ]
    },
    {
      "cell_type": "markdown",
      "source": [
        "## **Experiments 2**"
      ],
      "metadata": {
        "id": "iTuF0IiynCa5"
      }
    },
    {
      "cell_type": "code",
      "source": [
        "q_learning = Q_Learning()\n",
        "q_learning.max_episodes = 5000\n",
        "q_learning.rewards={'r_time':-1,'r_pond':0,'r_croissant':0,'r_cogs':0,'r_work':20}\n",
        "q_learning.tubes=[[(0, 0), (1, 5)], [(1, 2), (5, 2)]]\n",
        "q_learning.epsilon_decays={'epsilon_threshold': 0.5, 'epsilon_decay1': 0.9999, 'epsilon_decay2': 0.999}"
      ],
      "metadata": {
        "id": "np9Ya3BbcLLR"
      },
      "execution_count": 26,
      "outputs": []
    },
    {
      "cell_type": "code",
      "source": [
        "%%time\n",
        "a_hist, Q_hist, Rtot = q_learning.learn(0.1,0.8,0.9)"
      ],
      "metadata": {
        "id": "afbC9FlRcMoc",
        "outputId": "a5ed1a4b-c8f4-4555-caa0-da6f05d7685e",
        "colab": {
          "base_uri": "https://localhost:8080/"
        }
      },
      "execution_count": 27,
      "outputs": [
        {
          "output_type": "stream",
          "name": "stdout",
          "text": [
            "CPU times: user 10.8 s, sys: 329 ms, total: 11.1 s\n",
            "Wall time: 10.6 s\n"
          ]
        }
      ]
    },
    {
      "cell_type": "code",
      "source": [
        "average_R_display(Rtot)"
      ],
      "metadata": {
        "colab": {
          "base_uri": "https://localhost:8080/",
          "height": 281
        },
        "id": "ZJb9Yk7Bzcll",
        "outputId": "48fc3161-7259-4dd7-96f6-e29c823693eb"
      },
      "execution_count": 28,
      "outputs": [
        {
          "output_type": "display_data",
          "data": {
            "text/plain": [
              "<Figure size 432x288 with 1 Axes>"
            ],
            "image/png": "[encoded data removed]"
          },
          "metadata": {
            "needs_background": "light"
          }
        }
      ]
    },
    {
      "cell_type": "code",
      "source": [
        "steps_plot(a_hist)"
      ],
      "metadata": {
        "colab": {
          "base_uri": "https://localhost:8080/",
          "height": 281
        },
        "id": "8RBy82ITzfNL",
        "outputId": "7a597658-3736-419f-cc45-443d9e79452d"
      },
      "execution_count": 29,
      "outputs": [
        {
          "output_type": "display_data",
          "data": {
            "text/plain": [
              "<Figure size 432x288 with 1 Axes>"
            ],
            "image/png": "[encoded data removed]"
          },
          "metadata": {
            "needs_background": "light"
          }
        }
      ]
    },
    {
      "cell_type": "code",
      "source": [
        "path = find_path(Q_hist[-1])\n",
        "r, steps = calculate_rewards(q_learning.R, path)\n",
        "print(\"Path: \",path)\n",
        "print(\"Path in grid coords: \", path_in_grids(path, q_learning.dims))\n",
        "print(\"Total Rewards: \", r)\n",
        "print(\"Number of steps: \",steps)"
      ],
      "metadata": {
        "id": "PIjCCcc4cOCT",
        "outputId": "76724c1c-e25a-4ca3-e598-03ca5baab792",
        "colab": {
          "base_uri": "https://localhost:8080/"
        }
      },
      "execution_count": 30,
      "outputs": [
        {
          "output_type": "stream",
          "name": "stdout",
          "text": [
            "Path:  [6, 0, 11, 10, 16, 17, 23, 29, 35]\n",
            "Path in grid coords:  [(1, 0), (0, 0), (1, 5), (1, 4), (2, 4), (2, 5), (3, 5), (4, 5), (5, 5)]\n",
            "Total Rewards:  15.0\n",
            "Number of steps:  8\n"
          ]
        }
      ]
    },
    {
      "cell_type": "markdown",
      "source": [
        "## **Experiments 3**"
      ],
      "metadata": {
        "id": "Inq0rP2qnJXI"
      }
    },
    {
      "cell_type": "code",
      "source": [
        "q_learning = Q_Learning()\n",
        "q_learning.max_episodes = 10000\n",
        "q_learning.rewards={'r_time':-5,'r_pond':0,'r_croissant':0,'r_cogs':0,'r_work':20}\n",
        "q_learning.tubes=[[(0, 0), (1, 5)], [(1, 2), (4, 1)]]\n",
        "q_learning.epsilon_decays={'epsilon_threshold': 0.5, 'epsilon_decay1': 0.9999, 'epsilon_decay2': 0.999}"
      ],
      "metadata": {
        "id": "XrYcRQTWki-C"
      },
      "execution_count": 31,
      "outputs": []
    },
    {
      "cell_type": "code",
      "source": [
        "%%time\n",
        "a_hist, Q_hist, Rtot = q_learning.learn(0.1,0.8,0.9)"
      ],
      "metadata": {
        "id": "aMo2GfhCkkh0",
        "outputId": "125a6d3d-e2dd-41c5-b367-b5236f1d2f45",
        "colab": {
          "base_uri": "https://localhost:8080/"
        }
      },
      "execution_count": 32,
      "outputs": [
        {
          "output_type": "stream",
          "name": "stdout",
          "text": [
            "CPU times: user 2min 29s, sys: 4.99 s, total: 2min 34s\n",
            "Wall time: 2min 26s\n"
          ]
        }
      ]
    },
    {
      "cell_type": "code",
      "source": [
        "Rtot_avg = Rtot.cumsum() / np.arange(1, len(Rtot) + 1)\n",
        "plt.plot(np.arange(20, len(Rtot_avg)), Rtot_avg[20:])"
      ],
      "metadata": {
        "colab": {
          "base_uri": "https://localhost:8080/",
          "height": 283
        },
        "id": "UDTMToQgzxxr",
        "outputId": "40b37262-e4ea-4b22-e080-6c40afad020e"
      },
      "execution_count": 33,
      "outputs": [
        {
          "output_type": "execute_result",
          "data": {
            "text/plain": [
              "[<matplotlib.lines.Line2D at 0x7f8310a13250>]"
            ]
          },
          "metadata": {},
          "execution_count": 33
        },
        {
          "output_type": "display_data",
          "data": {
            "text/plain": [
              "<Figure size 432x288 with 1 Axes>"
            ],
            "image/png": "[encoded data removed]"
          },
          "metadata": {
            "needs_background": "light"
          }
        }
      ]
    },
    {
      "cell_type": "code",
      "source": [
        "y = []\n",
        "x = np.arange(len(a_hist))\n",
        "for his in a_hist:\n",
        "  y.append(len(his))\n",
        "  \n",
        "y_avg = np.cumsum(y) / np.arange(1, len(y) + 1)\n",
        "plt.plot(np.arange(20, len(y_avg)), y_avg[20:])"
      ],
      "metadata": {
        "colab": {
          "base_uri": "https://localhost:8080/",
          "height": 283
        },
        "id": "f0QBGc6tzvFt",
        "outputId": "3f48215c-e691-4f64-aa96-764c3db4d72e"
      },
      "execution_count": 34,
      "outputs": [
        {
          "output_type": "execute_result",
          "data": {
            "text/plain": [
              "[<matplotlib.lines.Line2D at 0x7f8310536350>]"
            ]
          },
          "metadata": {},
          "execution_count": 34
        },
        {
          "output_type": "display_data",
          "data": {
            "text/plain": [
              "<Figure size 432x288 with 1 Axes>"
            ],
            "image/png": "[encoded data removed]"
          },
          "metadata": {
            "needs_background": "light"
          }
        }
      ]
    },
    {
      "cell_type": "code",
      "source": [
        "path = find_path(Q_hist[-1])\n",
        "r, steps = calculate_rewards(q_learning.R, path)\n",
        "print(\"Path: \",path)\n",
        "print(\"Path in grid coords: \", path_in_grids(path, q_learning.dims))\n",
        "print(\"Total Rewards: \", r)\n",
        "print(\"Number of steps: \",steps)"
      ],
      "metadata": {
        "id": "GtyKiYS7kmjX",
        "outputId": "f2b14ef4-c5ae-4d4e-87f5-e633d1e7bff8",
        "colab": {
          "base_uri": "https://localhost:8080/"
        }
      },
      "execution_count": 35,
      "outputs": [
        {
          "output_type": "stream",
          "name": "stdout",
          "text": [
            "The Agent chose to stay in his position\n",
            "Path:  [6, 1]\n",
            "Path in grid coords:  [(1, 0), (0, 1)]\n",
            "Total Rewards:  nan\n",
            "Number of steps:  1\n"
          ]
        }
      ]
    },
    {
      "cell_type": "markdown",
      "source": [
        "## **Experiments 4**"
      ],
      "metadata": {
        "id": "f_opfVn9nMj-"
      }
    },
    {
      "cell_type": "code",
      "source": [
        "q_learning = Q_Learning()\n",
        "q_learning.max_episodes = 1000\n",
        "q_learning.rewards={'r_time':-0.5,'r_pond':-5,'r_croissant':0,'r_cogs':0,'r_work':20}\n",
        "q_learning.tubes=[[(0, 0), (1, 5)], [(1, 2), (5, 2)]]\n",
        "q_learning.epsilon_decays={'epsilon_threshold': 0.5, 'epsilon_decay1': 0.9999, 'epsilon_decay2': 0.999}"
      ],
      "metadata": {
        "id": "YtKV4vWgnPMS"
      },
      "execution_count": 36,
      "outputs": []
    },
    {
      "cell_type": "code",
      "source": [
        "%%time\n",
        "a_hist, Q_hist, Rtot = q_learning.learn(0.1,0.9,0.9)"
      ],
      "metadata": {
        "id": "DEPw7HvxnTYo",
        "outputId": "f764cdcc-0613-4c01-c4d1-ae0c2ab82017",
        "colab": {
          "base_uri": "https://localhost:8080/"
        }
      },
      "execution_count": 37,
      "outputs": [
        {
          "output_type": "stream",
          "name": "stdout",
          "text": [
            "CPU times: user 4.27 s, sys: 124 ms, total: 4.39 s\n",
            "Wall time: 4.19 s\n"
          ]
        }
      ]
    },
    {
      "cell_type": "code",
      "source": [
        "steps_plot(a_hist)"
      ],
      "metadata": {
        "colab": {
          "base_uri": "https://localhost:8080/",
          "height": 281
        },
        "id": "Q6L3FMRioTqW",
        "outputId": "3795e45f-f0fd-4213-9cdd-d0e2aaeef225"
      },
      "execution_count": 41,
      "outputs": [
        {
          "output_type": "display_data",
          "data": {
            "text/plain": [
              "<Figure size 432x288 with 1 Axes>"
            ],
            "image/png": "[encoded data removed]"
          },
          "metadata": {
            "needs_background": "light"
          }
        }
      ]
    },
    {
      "cell_type": "code",
      "source": [
        "average_R_display(Rtot)"
      ],
      "metadata": {
        "colab": {
          "base_uri": "https://localhost:8080/",
          "height": 281
        },
        "id": "_l0-m5_dodrJ",
        "outputId": "3de3575a-b869-4539-8bca-040a4b2459f0"
      },
      "execution_count": 40,
      "outputs": [
        {
          "output_type": "display_data",
          "data": {
            "text/plain": [
              "<Figure size 432x288 with 1 Axes>"
            ],
            "image/png": "[encoded data removed]"
          },
          "metadata": {
            "needs_background": "light"
          }
        }
      ]
    },
    {
      "cell_type": "code",
      "source": [
        "path = find_path(Q_hist[-1])\n",
        "r, steps = calculate_rewards(q_learning.R, path)\n",
        "print(\"Path: \",path)\n",
        "print(\"Path in grid coords: \", path_in_grids(path, q_learning.dims))\n",
        "print(\"Total Rewards: \", r)\n",
        "print(\"Number of steps: \",steps)"
      ],
      "metadata": {
        "colab": {
          "base_uri": "https://localhost:8080/"
        },
        "id": "POEcmzT4oO7p",
        "outputId": "79ab46bc-1b52-4776-a926-57b4c1121eaa"
      },
      "execution_count": 42,
      "outputs": [
        {
          "output_type": "stream",
          "name": "stdout",
          "text": [
            "Path:  [6, 7, 13, 14, 20, 21, 22, 23, 29, 35]\n",
            "Path in grid coords:  [(1, 0), (1, 1), (2, 1), (2, 2), (3, 2), (3, 3), (3, 4), (3, 5), (4, 5), (5, 5)]\n",
            "Total Rewards:  16.0\n",
            "Number of steps:  9\n"
          ]
        }
      ]
    },
    {
      "cell_type": "markdown",
      "source": [
        "## **Experiment 5**"
      ],
      "metadata": {
        "id": "QXA1NNb1nYcl"
      }
    },
    {
      "cell_type": "code",
      "source": [
        "q_learning = Q_Learning()\n",
        "q_learning.max_episodes = 5000\n",
        "q_learning.rewards={'r_time':-0.5,'r_pond':-5,'r_croissant':0,'r_cogs':0,'r_work':20}\n",
        "q_learning.tubes=[[(0, 0), (1, 5)], [(1, 2), (5, 3)]]\n",
        "q_learning.epsilon_decays={'epsilon_threshold': 0.5, 'epsilon_decay1': 0.9999, 'epsilon_decay2': 0.999}"
      ],
      "metadata": {
        "id": "syOCOGoinYDo"
      },
      "execution_count": 43,
      "outputs": []
    },
    {
      "cell_type": "code",
      "source": [
        "%%time\n",
        "a_hist, Q_hist, Rtot = q_learning.learn(0.1,0.9,0.9)"
      ],
      "metadata": {
        "id": "EuMvFoscngOw",
        "outputId": "511f5bc7-adb4-4432-8820-2a7bedb0cf1b",
        "colab": {
          "base_uri": "https://localhost:8080/"
        }
      },
      "execution_count": 44,
      "outputs": [
        {
          "output_type": "stream",
          "name": "stdout",
          "text": [
            "CPU times: user 9.6 s, sys: 406 ms, total: 10 s\n",
            "Wall time: 9.2 s\n"
          ]
        }
      ]
    },
    {
      "cell_type": "code",
      "source": [
        "steps_plot(a_hist)"
      ],
      "metadata": {
        "id": "pU47ps-YpDG1",
        "outputId": "c3f1213a-4fb0-4bd7-ce2e-62113699762a",
        "colab": {
          "base_uri": "https://localhost:8080/",
          "height": 281
        }
      },
      "execution_count": 45,
      "outputs": [
        {
          "output_type": "display_data",
          "data": {
            "text/plain": [
              "<Figure size 432x288 with 1 Axes>"
            ],
            "image/png": "[encoded data removed]"
          },
          "metadata": {
            "needs_background": "light"
          }
        }
      ]
    },
    {
      "cell_type": "code",
      "source": [
        "average_R_display(Rtot)"
      ],
      "metadata": {
        "id": "y6PWVbNZpE5t",
        "outputId": "9624f748-a22c-4d7d-d0f9-ba3498a8c8cf",
        "colab": {
          "base_uri": "https://localhost:8080/",
          "height": 281
        }
      },
      "execution_count": 46,
      "outputs": [
        {
          "output_type": "display_data",
          "data": {
            "text/plain": [
              "<Figure size 432x288 with 1 Axes>"
            ],
            "image/png": "[encoded data removed]"
          },
          "metadata": {
            "needs_background": "light"
          }
        }
      ]
    },
    {
      "cell_type": "code",
      "source": [
        "path = find_path(Q_hist[-1])\n",
        "r, steps = calculate_rewards(q_learning.R, path)\n",
        "print(\"Path: \",path)\n",
        "print(\"Path in grid coords: \", path_in_grids(path, q_learning.dims))\n",
        "print(\"Total Rewards: \", r)\n",
        "print(\"Number of steps: \",steps)"
      ],
      "metadata": {
        "id": "JH19AAl9niTj",
        "outputId": "7bde641a-ee68-4239-f52b-275fb95aa354",
        "colab": {
          "base_uri": "https://localhost:8080/"
        }
      },
      "execution_count": 47,
      "outputs": [
        {
          "output_type": "stream",
          "name": "stdout",
          "text": [
            "Path:  [6, 7, 8, 33, 34, 35]\n",
            "Path in grid coords:  [(1, 0), (1, 1), (1, 2), (5, 3), (5, 4), (5, 5)]\n",
            "Total Rewards:  18.0\n",
            "Number of steps:  5\n"
          ]
        }
      ]
    },
    {
      "cell_type": "markdown",
      "source": [
        "## **Experiment 6:** Limitation of Q-Learning"
      ],
      "metadata": {
        "id": "PwUL7hJCnnbJ"
      }
    },
    {
      "cell_type": "code",
      "source": [
        "q_learning = Q_Learning()\n",
        "q_learning.max_episodes = 100000\n",
        "q_learning.rewards={'r_time':0,'r_pond':-1,'r_croissant':5,'r_cogs':50,'r_work':20}\n",
        "q_learning.tubes=[[(0, 0), (1,5)], [(1, 2), (5, 1)]]\n",
        "q_learning.epsilon_decays={'epsilon_threshold': 0.5, 'epsilon_decay1': 0.99999, 'epsilon_decay2': 0.9999}"
      ],
      "metadata": {
        "id": "ufWU6ex1nmwV"
      },
      "execution_count": 79,
      "outputs": []
    },
    {
      "cell_type": "code",
      "source": [
        "%%time\n",
        "a_hist, Q_hist, Rtot = q_learning.learn(0.8,0.9,0.9)"
      ],
      "metadata": {
        "id": "UthadUDzntFw",
        "outputId": "e494ed12-9d02-4eef-e9da-0c52b605542d",
        "colab": {
          "base_uri": "https://localhost:8080/"
        }
      },
      "execution_count": 80,
      "outputs": [
        {
          "output_type": "stream",
          "name": "stdout",
          "text": [
            "CPU times: user 14min 39s, sys: 29 s, total: 15min 8s\n",
            "Wall time: 14min 24s\n"
          ]
        }
      ]
    },
    {
      "cell_type": "code",
      "source": [
        "average_R_display(Rtot)"
      ],
      "metadata": {
        "id": "NVVPwQjo1Kwg",
        "colab": {
          "base_uri": "https://localhost:8080/",
          "height": 281
        },
        "outputId": "04d8585e-87da-4ee7-ff75-de804196d2cc"
      },
      "execution_count": 81,
      "outputs": [
        {
          "output_type": "display_data",
          "data": {
            "text/plain": [
              "<Figure size 432x288 with 1 Axes>"
            ],
            "image/png": "[encoded data removed]"
          },
          "metadata": {
            "needs_background": "light"
          }
        }
      ]
    },
    {
      "cell_type": "code",
      "source": [
        "steps_plot(a_hist)"
      ],
      "metadata": {
        "id": "BjSZME3L1QPF",
        "colab": {
          "base_uri": "https://localhost:8080/",
          "height": 281
        },
        "outputId": "14a5d441-3eba-4b1b-e062-e30cdc27503d"
      },
      "execution_count": 82,
      "outputs": [
        {
          "output_type": "display_data",
          "data": {
            "text/plain": [
              "<Figure size 432x288 with 1 Axes>"
            ],
            "image/png": "[encoded data removed]"
          },
          "metadata": {
            "needs_background": "light"
          }
        }
      ]
    },
    {
      "cell_type": "code",
      "source": [
        "path = find_path(Q_hist[-1])\n",
        "r, steps = calculate_rewards(q_learning.R, path)\n",
        "print(\"Path: \",path)\n",
        "print(\"Path in grid coords: \", path_in_grids(path, q_learning.dims))\n",
        "print(\"Total Rewards: \", r)\n",
        "print(\"Number of steps: \",steps)"
      ],
      "metadata": {
        "id": "wiHRT0l6nvJ_",
        "outputId": "25fe429f-09c4-485a-eabb-c9a22645e769",
        "colab": {
          "base_uri": "https://localhost:8080/"
        }
      },
      "execution_count": 83,
      "outputs": [
        {
          "output_type": "stream",
          "name": "stdout",
          "text": [
            "Path:  [6, 7, 8, 31, 32, 26, 27, 28, 29, 35]\n",
            "Path in grid coords:  [(1, 0), (1, 1), (1, 2), (5, 1), (5, 2), (4, 2), (4, 3), (4, 4), (4, 5), (5, 5)]\n",
            "Total Rewards:  69.0\n",
            "Number of steps:  9\n"
          ]
        }
      ]
    },
    {
      "cell_type": "code",
      "source": [
        "state = 32"
      ],
      "metadata": {
        "id": "vr0XZ6wXAJp8"
      },
      "execution_count": 98,
      "outputs": []
    },
    {
      "cell_type": "code",
      "source": [
        "Q_hist[-1][26, 32]"
      ],
      "metadata": {
        "colab": {
          "base_uri": "https://localhost:8080/"
        },
        "id": "qQOc6TeiAtyi",
        "outputId": "2091f235-8a9a-48fd-d74d-ad26e4010d76"
      },
      "execution_count": 105,
      "outputs": [
        {
          "output_type": "execute_result",
          "data": {
            "text/plain": [
              "12.878134690254875"
            ]
          },
          "metadata": {},
          "execution_count": 105
        }
      ]
    }
  ],
  "metadata": {
    "colab": {
      "collapsed_sections": [],
      "name": "Experiments",
      "provenance": []
    },
    "kernelspec": {
      "display_name": "Python 3",
      "name": "python3"
    }
  },
  "nbformat": 4,
  "nbformat_minor": 0
}
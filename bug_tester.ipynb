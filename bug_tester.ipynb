{
 "cells": [
  {
   "cell_type": "markdown",
   "id": "dec53115-befc-44e2-a3f5-5a86df044dd8",
   "metadata": {
    "tags": []
   },
   "source": [
    "# Reinforcement Learning Notwbook"
   ]
  },
  {
   "cell_type": "code",
   "execution_count": 1,
   "id": "8462c0c0-ec92-482b-8550-596a8af3d075",
   "metadata": {},
   "outputs": [],
   "source": [
    "from RobotEnvClass import Q_Learning, SARSA_learning, Q_Learning_Randomness\n",
    "import numpy as np\n",
    "import matplotlib.pyplot as plt"
   ]
  },
  {
   "cell_type": "markdown",
   "id": "7175155c-2e1b-403a-a2f7-58b6070af3a2",
   "metadata": {},
   "source": [
    "## Q Learning"
   ]
  },
  {
   "cell_type": "code",
   "execution_count": 27,
   "id": "a7995983-73cf-4df5-843d-e2ea6893c586",
   "metadata": {},
   "outputs": [
    {
     "name": "stdout",
     "output_type": "stream",
     "text": [
      "\n",
      "X  X  X  X  X  X  X  \n",
      "X  S     .  X  C  X  \n",
      "X                 X  \n",
      "X  P     .     .  X  \n",
      "X                 X  \n",
      "X  G     .     E  X  \n",
      "X  X  X  X  X  X  X  \n",
      "\n",
      "key:\n",
      "S  = start location for agent\n",
      "E  = end location for agent\n",
      ".  = empty cell\n",
      "X  = boundary or wall beetween cells\n",
      "Tn = nth Tube start or end. Agent can travel between the two Tn in one time step\n",
      "P  = pond: falling in is cold and wet\n",
      "G  = cog: agent is rewarded for collecting\n",
      "C  = croissant: agent is rewarded for collecting\n",
      "\n"
     ]
    }
   ],
   "source": [
    "q_learning = Q_Learning(dims=(3,3),\n",
    "                        rewards={'r_time':-1, 'r_pond':-5, 'r_croissant':5, 'r_cogs':5, 'r_work':10},\n",
    "                        start=(0,0),\n",
    "                        end=(2,2),\n",
    "                        positions={'pond':[(1,0)], 'cogs':[(2,0)], 'croissant': [(0,2)]},\n",
    "                        tubes=[],\n",
    "                        walls=[[(0, 1), (0, 2)]],\n",
    "                        max_steps=100,\n",
    "                        max_episodes=1000\n",
    "                       )\n",
    "st = q_learning.visualise_world()\n",
    "print(st)"
   ]
  },
  {
   "cell_type": "code",
   "execution_count": 28,
   "id": "8b610118-00c1-4300-be0d-385e160f5235",
   "metadata": {},
   "outputs": [
    {
     "data": {
      "text/plain": [
       "array([[ 0.,  0.,  5.],\n",
       "       [-5.,  0.,  0.],\n",
       "       [ 5.,  0., 10.]])"
      ]
     },
     "execution_count": 28,
     "metadata": {},
     "output_type": "execute_result"
    }
   ],
   "source": [
    "q_learning._grid"
   ]
  },
  {
   "cell_type": "code",
   "execution_count": 29,
   "id": "bbbd9e1d-3447-4183-827c-a3165e4bf88e",
   "metadata": {},
   "outputs": [
    {
     "data": {
      "text/html": [
       "<div>\n",
       "<style scoped>\n",
       "    .dataframe tbody tr th:only-of-type {\n",
       "        vertical-align: middle;\n",
       "    }\n",
       "\n",
       "    .dataframe tbody tr th {\n",
       "        vertical-align: top;\n",
       "    }\n",
       "\n",
       "    .dataframe thead th {\n",
       "        text-align: right;\n",
       "    }\n",
       "</style>\n",
       "<table border=\"1\" class=\"dataframe\">\n",
       "  <thead>\n",
       "    <tr style=\"text-align: right;\">\n",
       "      <th></th>\n",
       "      <th>0</th>\n",
       "      <th>1</th>\n",
       "      <th>2</th>\n",
       "      <th>3</th>\n",
       "      <th>4</th>\n",
       "      <th>5</th>\n",
       "      <th>6</th>\n",
       "      <th>7</th>\n",
       "      <th>8</th>\n",
       "    </tr>\n",
       "  </thead>\n",
       "  <tbody>\n",
       "    <tr>\n",
       "      <th>0</th>\n",
       "      <td>-1.0</td>\n",
       "      <td>-1.0</td>\n",
       "      <td>-1.0</td>\n",
       "      <td>-5.0</td>\n",
       "      <td>-1.0</td>\n",
       "      <td>-1.0</td>\n",
       "      <td>-1.0</td>\n",
       "      <td>-1.0</td>\n",
       "      <td>-1.0</td>\n",
       "    </tr>\n",
       "    <tr>\n",
       "      <th>1</th>\n",
       "      <td>-1.0</td>\n",
       "      <td>-1.0</td>\n",
       "      <td>NaN</td>\n",
       "      <td>-1.0</td>\n",
       "      <td>-1.0</td>\n",
       "      <td>-1.0</td>\n",
       "      <td>-1.0</td>\n",
       "      <td>-1.0</td>\n",
       "      <td>-1.0</td>\n",
       "    </tr>\n",
       "    <tr>\n",
       "      <th>2</th>\n",
       "      <td>-1.0</td>\n",
       "      <td>NaN</td>\n",
       "      <td>-1.0</td>\n",
       "      <td>-1.0</td>\n",
       "      <td>-1.0</td>\n",
       "      <td>-1.0</td>\n",
       "      <td>-1.0</td>\n",
       "      <td>-1.0</td>\n",
       "      <td>-1.0</td>\n",
       "    </tr>\n",
       "    <tr>\n",
       "      <th>3</th>\n",
       "      <td>-1.0</td>\n",
       "      <td>-1.0</td>\n",
       "      <td>-1.0</td>\n",
       "      <td>-5.0</td>\n",
       "      <td>-1.0</td>\n",
       "      <td>-1.0</td>\n",
       "      <td>5.0</td>\n",
       "      <td>-1.0</td>\n",
       "      <td>-1.0</td>\n",
       "    </tr>\n",
       "    <tr>\n",
       "      <th>4</th>\n",
       "      <td>-1.0</td>\n",
       "      <td>-1.0</td>\n",
       "      <td>-1.0</td>\n",
       "      <td>-5.0</td>\n",
       "      <td>-1.0</td>\n",
       "      <td>-1.0</td>\n",
       "      <td>-1.0</td>\n",
       "      <td>-1.0</td>\n",
       "      <td>-1.0</td>\n",
       "    </tr>\n",
       "    <tr>\n",
       "      <th>5</th>\n",
       "      <td>-1.0</td>\n",
       "      <td>-1.0</td>\n",
       "      <td>5.0</td>\n",
       "      <td>-1.0</td>\n",
       "      <td>-1.0</td>\n",
       "      <td>-1.0</td>\n",
       "      <td>-1.0</td>\n",
       "      <td>-1.0</td>\n",
       "      <td>10.0</td>\n",
       "    </tr>\n",
       "    <tr>\n",
       "      <th>6</th>\n",
       "      <td>-1.0</td>\n",
       "      <td>-1.0</td>\n",
       "      <td>-1.0</td>\n",
       "      <td>-5.0</td>\n",
       "      <td>-1.0</td>\n",
       "      <td>-1.0</td>\n",
       "      <td>-1.0</td>\n",
       "      <td>-1.0</td>\n",
       "      <td>-1.0</td>\n",
       "    </tr>\n",
       "    <tr>\n",
       "      <th>7</th>\n",
       "      <td>-1.0</td>\n",
       "      <td>-1.0</td>\n",
       "      <td>-1.0</td>\n",
       "      <td>-1.0</td>\n",
       "      <td>-1.0</td>\n",
       "      <td>-1.0</td>\n",
       "      <td>5.0</td>\n",
       "      <td>-1.0</td>\n",
       "      <td>10.0</td>\n",
       "    </tr>\n",
       "    <tr>\n",
       "      <th>8</th>\n",
       "      <td>-1.0</td>\n",
       "      <td>-1.0</td>\n",
       "      <td>-1.0</td>\n",
       "      <td>-1.0</td>\n",
       "      <td>-1.0</td>\n",
       "      <td>-1.0</td>\n",
       "      <td>-1.0</td>\n",
       "      <td>-1.0</td>\n",
       "      <td>10.0</td>\n",
       "    </tr>\n",
       "  </tbody>\n",
       "</table>\n",
       "</div>"
      ],
      "text/plain": [
       "     0    1    2    3    4    5    6    7     8\n",
       "0 -1.0 -1.0 -1.0 -5.0 -1.0 -1.0 -1.0 -1.0  -1.0\n",
       "1 -1.0 -1.0  NaN -1.0 -1.0 -1.0 -1.0 -1.0  -1.0\n",
       "2 -1.0  NaN -1.0 -1.0 -1.0 -1.0 -1.0 -1.0  -1.0\n",
       "3 -1.0 -1.0 -1.0 -5.0 -1.0 -1.0  5.0 -1.0  -1.0\n",
       "4 -1.0 -1.0 -1.0 -5.0 -1.0 -1.0 -1.0 -1.0  -1.0\n",
       "5 -1.0 -1.0  5.0 -1.0 -1.0 -1.0 -1.0 -1.0  10.0\n",
       "6 -1.0 -1.0 -1.0 -5.0 -1.0 -1.0 -1.0 -1.0  -1.0\n",
       "7 -1.0 -1.0 -1.0 -1.0 -1.0 -1.0  5.0 -1.0  10.0\n",
       "8 -1.0 -1.0 -1.0 -1.0 -1.0 -1.0 -1.0 -1.0  10.0"
      ]
     },
     "metadata": {},
     "output_type": "display_data"
    }
   ],
   "source": [
    "q_learning.display_matrix(q_learning._R)"
   ]
  },
  {
   "cell_type": "code",
   "execution_count": 30,
   "id": "4a99b3df-7c4b-45fb-8d0c-431f53b9cf1f",
   "metadata": {},
   "outputs": [
    {
     "data": {
      "text/plain": [
       "array([[-1., -1., -1., -5., -1., -1., -1., -1., -1.],\n",
       "       [-1., -1., nan, -1., -1., -1., -1., -1., -1.],\n",
       "       [-1., nan, -1., -1., -1., -1., -1., -1., -1.],\n",
       "       [-1., -1., -1., -5., -1., -1.,  5., -1., -1.],\n",
       "       [-1., -1., -1., -5., -1., -1., -1., -1., -1.],\n",
       "       [-1., -1.,  5., -1., -1., -1., -1., -1., 10.],\n",
       "       [-1., -1., -1., -5., -1., -1., -1., -1., -1.],\n",
       "       [-1., -1., -1., -1., -1., -1.,  5., -1., 10.],\n",
       "       [-1., -1., -1., -1., -1., -1., -1., -1., 10.]])"
      ]
     },
     "execution_count": 30,
     "metadata": {},
     "output_type": "execute_result"
    }
   ],
   "source": [
    "q_learning._R"
   ]
  },
  {
   "cell_type": "code",
   "execution_count": 31,
   "id": "90ed8990-f991-4d0c-a6ac-e39b2afb88c3",
   "metadata": {
    "tags": []
   },
   "outputs": [
    {
     "data": {
      "text/plain": [
       "array([-1., -1., -1., -5., -1., -1.,  5., -1., -1.])"
      ]
     },
     "execution_count": 31,
     "metadata": {},
     "output_type": "execute_result"
    }
   ],
   "source": [
    "q_learning._R[3]"
   ]
  },
  {
   "cell_type": "code",
   "execution_count": 32,
   "id": "75105f4f-041a-4e80-b0e3-bb8dfc6f520b",
   "metadata": {},
   "outputs": [
    {
     "data": {
      "text/plain": [
       "array([-1., -1., -1., -5., -1., -1.,  5., -1., -1.])"
      ]
     },
     "execution_count": 32,
     "metadata": {},
     "output_type": "execute_result"
    }
   ],
   "source": [
    "available = np.where(~np.isnan(q_learning._R[3]))[0]\n",
    "q_vals = q_learning._R[3, available]\n",
    "q_vals"
   ]
  },
  {
   "cell_type": "code",
   "execution_count": 33,
   "id": "7b021c20-2c5d-4c1e-9c3c-44fd3e111807",
   "metadata": {},
   "outputs": [
    {
     "data": {
      "text/plain": [
       "array([6])"
      ]
     },
     "execution_count": 33,
     "metadata": {},
     "output_type": "execute_result"
    }
   ],
   "source": [
    "best = available[np.where(q_vals == np.max(q_vals))[0]]\n",
    "best"
   ]
  },
  {
   "cell_type": "code",
   "execution_count": 34,
   "id": "49c07d3b-7367-4637-8ba0-49aabcd7b495",
   "metadata": {},
   "outputs": [
    {
     "name": "stdout",
     "output_type": "stream",
     "text": [
      "CPU times: user 204 ms, sys: 7.61 ms, total: 212 ms\n",
      "Wall time: 206 ms\n"
     ]
    }
   ],
   "source": [
    "%%time\n",
    "Q, Rtot = q_learning.learn(0.8,0.8,0.95)"
   ]
  },
  {
   "cell_type": "code",
   "execution_count": 35,
   "id": "cb46a047-ae91-41b7-addb-f9c4818a7fbe",
   "metadata": {},
   "outputs": [
    {
     "data": {
      "text/plain": [
       "[<matplotlib.lines.Line2D at 0x119fe1240>]"
      ]
     },
     "execution_count": 35,
     "metadata": {},
     "output_type": "execute_result"
    },
    {
     "data": {
      "image/png": "[encoded data removed]",
      "text/plain": [
       "<Figure size 432x288 with 1 Axes>"
      ]
     },
     "metadata": {
      "needs_background": "light"
     },
     "output_type": "display_data"
    }
   ],
   "source": [
    "Rtot_avg = Rtot.cumsum() / np.arange(1, len(Rtot) + 1)\n",
    "plt.plot(np.arange(20, len(Rtot_avg)), Rtot_avg[20:])"
   ]
  },
  {
   "cell_type": "code",
   "execution_count": 25,
   "id": "c02c6aab-1b5c-41a0-abf5-a5d921b57dcb",
   "metadata": {},
   "outputs": [
    {
     "data": {
      "text/plain": [
       "(1000,)"
      ]
     },
     "execution_count": 25,
     "metadata": {},
     "output_type": "execute_result"
    }
   ],
   "source": [
    "Rtot.shape"
   ]
  },
  {
   "cell_type": "code",
   "execution_count": 26,
   "id": "96137093-b58d-4aad-b0c0-8496b3aa57b2",
   "metadata": {},
   "outputs": [
    {
     "data": {
      "text/html": [
       "<div>\n",
       "<style scoped>\n",
       "    .dataframe tbody tr th:only-of-type {\n",
       "        vertical-align: middle;\n",
       "    }\n",
       "\n",
       "    .dataframe tbody tr th {\n",
       "        vertical-align: top;\n",
       "    }\n",
       "\n",
       "    .dataframe thead th {\n",
       "        text-align: right;\n",
       "    }\n",
       "</style>\n",
       "<table border=\"1\" class=\"dataframe\">\n",
       "  <thead>\n",
       "    <tr style=\"text-align: right;\">\n",
       "      <th></th>\n",
       "      <th>0</th>\n",
       "      <th>1</th>\n",
       "      <th>2</th>\n",
       "      <th>3</th>\n",
       "      <th>4</th>\n",
       "      <th>5</th>\n",
       "      <th>6</th>\n",
       "      <th>7</th>\n",
       "      <th>8</th>\n",
       "    </tr>\n",
       "  </thead>\n",
       "  <tbody>\n",
       "    <tr>\n",
       "      <th>0</th>\n",
       "      <td>2.466667</td>\n",
       "      <td>3.533333</td>\n",
       "      <td>0.000000</td>\n",
       "      <td>4.333333</td>\n",
       "      <td>0.000000</td>\n",
       "      <td>0.000000</td>\n",
       "      <td>0.000000</td>\n",
       "      <td>0.000000</td>\n",
       "      <td>0.0</td>\n",
       "    </tr>\n",
       "    <tr>\n",
       "      <th>1</th>\n",
       "      <td>2.466667</td>\n",
       "      <td>3.533333</td>\n",
       "      <td>0.000000</td>\n",
       "      <td>0.000000</td>\n",
       "      <td>5.666667</td>\n",
       "      <td>0.000000</td>\n",
       "      <td>0.000000</td>\n",
       "      <td>0.000000</td>\n",
       "      <td>0.0</td>\n",
       "    </tr>\n",
       "    <tr>\n",
       "      <th>2</th>\n",
       "      <td>0.000000</td>\n",
       "      <td>0.000000</td>\n",
       "      <td>0.000000</td>\n",
       "      <td>0.000000</td>\n",
       "      <td>0.000000</td>\n",
       "      <td>8.333333</td>\n",
       "      <td>0.000000</td>\n",
       "      <td>0.000000</td>\n",
       "      <td>0.0</td>\n",
       "    </tr>\n",
       "    <tr>\n",
       "      <th>3</th>\n",
       "      <td>2.466667</td>\n",
       "      <td>0.000000</td>\n",
       "      <td>0.000000</td>\n",
       "      <td>4.333333</td>\n",
       "      <td>5.666667</td>\n",
       "      <td>0.000000</td>\n",
       "      <td>11.666667</td>\n",
       "      <td>0.000000</td>\n",
       "      <td>0.0</td>\n",
       "    </tr>\n",
       "    <tr>\n",
       "      <th>4</th>\n",
       "      <td>0.000000</td>\n",
       "      <td>3.533333</td>\n",
       "      <td>0.000000</td>\n",
       "      <td>4.333333</td>\n",
       "      <td>5.666667</td>\n",
       "      <td>8.333333</td>\n",
       "      <td>0.000000</td>\n",
       "      <td>8.333333</td>\n",
       "      <td>0.0</td>\n",
       "    </tr>\n",
       "    <tr>\n",
       "      <th>5</th>\n",
       "      <td>0.000000</td>\n",
       "      <td>0.000000</td>\n",
       "      <td>11.666667</td>\n",
       "      <td>0.000000</td>\n",
       "      <td>5.666667</td>\n",
       "      <td>8.333333</td>\n",
       "      <td>0.000000</td>\n",
       "      <td>8.333333</td>\n",
       "      <td>10.0</td>\n",
       "    </tr>\n",
       "    <tr>\n",
       "      <th>6</th>\n",
       "      <td>0.000000</td>\n",
       "      <td>0.000000</td>\n",
       "      <td>0.000000</td>\n",
       "      <td>4.333333</td>\n",
       "      <td>0.000000</td>\n",
       "      <td>0.000000</td>\n",
       "      <td>5.666667</td>\n",
       "      <td>8.333333</td>\n",
       "      <td>0.0</td>\n",
       "    </tr>\n",
       "    <tr>\n",
       "      <th>7</th>\n",
       "      <td>0.000000</td>\n",
       "      <td>0.000000</td>\n",
       "      <td>0.000000</td>\n",
       "      <td>0.000000</td>\n",
       "      <td>5.666667</td>\n",
       "      <td>0.000000</td>\n",
       "      <td>11.666667</td>\n",
       "      <td>8.333333</td>\n",
       "      <td>10.0</td>\n",
       "    </tr>\n",
       "    <tr>\n",
       "      <th>8</th>\n",
       "      <td>0.000000</td>\n",
       "      <td>0.000000</td>\n",
       "      <td>0.000000</td>\n",
       "      <td>0.000000</td>\n",
       "      <td>0.000000</td>\n",
       "      <td>0.000000</td>\n",
       "      <td>0.000000</td>\n",
       "      <td>0.000000</td>\n",
       "      <td>0.0</td>\n",
       "    </tr>\n",
       "  </tbody>\n",
       "</table>\n",
       "</div>"
      ],
      "text/plain": [
       "          0         1          2         3         4         5          6  \\\n",
       "0  2.466667  3.533333   0.000000  4.333333  0.000000  0.000000   0.000000   \n",
       "1  2.466667  3.533333   0.000000  0.000000  5.666667  0.000000   0.000000   \n",
       "2  0.000000  0.000000   0.000000  0.000000  0.000000  8.333333   0.000000   \n",
       "3  2.466667  0.000000   0.000000  4.333333  5.666667  0.000000  11.666667   \n",
       "4  0.000000  3.533333   0.000000  4.333333  5.666667  8.333333   0.000000   \n",
       "5  0.000000  0.000000  11.666667  0.000000  5.666667  8.333333   0.000000   \n",
       "6  0.000000  0.000000   0.000000  4.333333  0.000000  0.000000   5.666667   \n",
       "7  0.000000  0.000000   0.000000  0.000000  5.666667  0.000000  11.666667   \n",
       "8  0.000000  0.000000   0.000000  0.000000  0.000000  0.000000   0.000000   \n",
       "\n",
       "          7     8  \n",
       "0  0.000000   0.0  \n",
       "1  0.000000   0.0  \n",
       "2  0.000000   0.0  \n",
       "3  0.000000   0.0  \n",
       "4  8.333333   0.0  \n",
       "5  8.333333  10.0  \n",
       "6  8.333333   0.0  \n",
       "7  8.333333  10.0  \n",
       "8  0.000000   0.0  "
      ]
     },
     "metadata": {},
     "output_type": "display_data"
    }
   ],
   "source": [
    "q_learning.display_matrix(Q)"
   ]
  },
  {
   "cell_type": "markdown",
   "id": "1af2926d-145f-4665-a4b8-2ba41eed7530",
   "metadata": {},
   "source": [
    "## Visualisation with original problem"
   ]
  },
  {
   "cell_type": "code",
   "execution_count": 9,
   "id": "28c639f9-904d-474e-a988-6c9b14546cd1",
   "metadata": {},
   "outputs": [
    {
     "name": "stdout",
     "output_type": "stream",
     "text": [
      "\n",
      "X  X  X  X  X  X  X  X  X  X  X  X  X  \n",
      "X  T0    .     .  X  .     .     .  X  \n",
      "X                                   X  \n",
      "X  S     .     T1 X  .     C     .  X  \n",
      "X                                X  X  \n",
      "X  .     .     .  X  .     P     .  X  \n",
      "X                                   X  \n",
      "X  .     .     .     .     .     T0 X  \n",
      "X  X     X                          X  \n",
      "X  .     T1    .     P     .     .  X  \n",
      "X                                   X  \n",
      "X  .     .     G  X  .     .     E  X  \n",
      "X  X  X  X  X  X  X  X  X  X  X  X  X  \n",
      "\n",
      "key:\n",
      "S  = start location for agent\n",
      "E  = end location for agent\n",
      ".  = empty cell\n",
      "X  = boundary or wall beetween cells\n",
      "Tn = nth Tube start or end. Agent can travel between the two Tn in one time step\n",
      "P  = pond: falling in is cold and wet\n",
      "G  = cog: agent is rewarded for collecting\n",
      "C  = croissant: agent is rewarded for collecting\n",
      "\n"
     ]
    }
   ],
   "source": [
    "q_learning = Q_Learning()\n",
    "st = q_learning.visualise_world()\n",
    "print(st)"
   ]
  },
  {
   "cell_type": "code",
   "execution_count": 7,
   "id": "88ae8ef3-642d-45a9-bb6f-29617685c007",
   "metadata": {},
   "outputs": [
    {
     "ename": "IndexError",
     "evalue": "index 43 is out of bounds for axis 1 with size 42",
     "output_type": "error",
     "traceback": [
      "\u001b[0;31m---------------------------------------------------------------------------\u001b[0m",
      "\u001b[0;31mIndexError\u001b[0m                                Traceback (most recent call last)",
      "Input \u001b[0;32mIn [7]\u001b[0m, in \u001b[0;36m<cell line: 1>\u001b[0;34m()\u001b[0m\n\u001b[0;32m----> 1\u001b[0m q_learning \u001b[38;5;241m=\u001b[39m \u001b[43mQ_Learning\u001b[49m\u001b[43m(\u001b[49m\u001b[43mdims\u001b[49m\u001b[38;5;241;43m=\u001b[39;49m\u001b[43m(\u001b[49m\u001b[38;5;241;43m7\u001b[39;49m\u001b[43m,\u001b[49m\u001b[38;5;241;43m6\u001b[39;49m\u001b[43m)\u001b[49m\u001b[43m)\u001b[49m\n\u001b[1;32m      2\u001b[0m st \u001b[38;5;241m=\u001b[39m q_learning\u001b[38;5;241m.\u001b[39mvisualise_world()\n\u001b[1;32m      3\u001b[0m \u001b[38;5;28mprint\u001b[39m(st)\n",
      "File \u001b[0;32m~/Library/CloudStorage/OneDrive-City,UniversityofLondon/modules/reinforcement_learning/coursework/Collins_Adib_INM707_CW/RobotEnvClass.py:390\u001b[0m, in \u001b[0;36mQ_Learning.__init__\u001b[0;34m(self, dims, rewards, start, end, positions, tubes, walls, max_steps, max_episodes, random_seed)\u001b[0m\n\u001b[1;32m    377\u001b[0m \u001b[38;5;28;01mdef\u001b[39;00m \u001b[38;5;21m__init__\u001b[39m(\u001b[38;5;28mself\u001b[39m,\n\u001b[1;32m    378\u001b[0m              dims\u001b[38;5;241m=\u001b[39m(\u001b[38;5;241m6\u001b[39m, \u001b[38;5;241m6\u001b[39m),\n\u001b[1;32m    379\u001b[0m              rewards\u001b[38;5;241m=\u001b[39m{\u001b[38;5;124m'\u001b[39m\u001b[38;5;124mr_time\u001b[39m\u001b[38;5;124m'\u001b[39m: \u001b[38;5;241m-\u001b[39m\u001b[38;5;241m1\u001b[39m, \u001b[38;5;124m'\u001b[39m\u001b[38;5;124mr_pond\u001b[39m\u001b[38;5;124m'\u001b[39m: \u001b[38;5;241m-\u001b[39m\u001b[38;5;241m15\u001b[39m, \u001b[38;5;124m'\u001b[39m\u001b[38;5;124mr_croissant\u001b[39m\u001b[38;5;124m'\u001b[39m: \u001b[38;5;241m200\u001b[39m, \u001b[38;5;124m'\u001b[39m\u001b[38;5;124mr_cogs\u001b[39m\u001b[38;5;124m'\u001b[39m: \u001b[38;5;241m200\u001b[39m, \u001b[38;5;124m'\u001b[39m\u001b[38;5;124mr_work\u001b[39m\u001b[38;5;124m'\u001b[39m: \u001b[38;5;241m15\u001b[39m},\n\u001b[0;32m   (...)\u001b[0m\n\u001b[1;32m    388\u001b[0m              random_seed\u001b[38;5;241m=\u001b[39m\u001b[38;5;241m42\u001b[39m\n\u001b[1;32m    389\u001b[0m              ):\n\u001b[0;32m--> 390\u001b[0m     \u001b[38;5;28;43msuper\u001b[39;49m\u001b[43m(\u001b[49m\u001b[43m)\u001b[49m\u001b[38;5;241;43m.\u001b[39;49m\u001b[38;5;21;43m__init__\u001b[39;49m\u001b[43m(\u001b[49m\u001b[43mdims\u001b[49m\u001b[43m,\u001b[49m\n\u001b[1;32m    391\u001b[0m \u001b[43m                     \u001b[49m\u001b[43mrewards\u001b[49m\u001b[43m,\u001b[49m\n\u001b[1;32m    392\u001b[0m \u001b[43m                     \u001b[49m\u001b[43mstart\u001b[49m\u001b[43m,\u001b[49m\n\u001b[1;32m    393\u001b[0m \u001b[43m                     \u001b[49m\u001b[43mend\u001b[49m\u001b[43m,\u001b[49m\n\u001b[1;32m    394\u001b[0m \u001b[43m                     \u001b[49m\u001b[43mpositions\u001b[49m\u001b[43m,\u001b[49m\n\u001b[1;32m    395\u001b[0m \u001b[43m                     \u001b[49m\u001b[43mtubes\u001b[49m\u001b[43m,\u001b[49m\n\u001b[1;32m    396\u001b[0m \u001b[43m                     \u001b[49m\u001b[43mwalls\u001b[49m\u001b[43m,\u001b[49m\n\u001b[1;32m    397\u001b[0m \u001b[43m                     \u001b[49m\u001b[43mmax_steps\u001b[49m\u001b[43m,\u001b[49m\n\u001b[1;32m    398\u001b[0m \u001b[43m                     \u001b[49m\u001b[43mmax_episodes\u001b[49m\u001b[43m,\u001b[49m\n\u001b[1;32m    399\u001b[0m \u001b[43m                     \u001b[49m\u001b[43mrandom_seed\u001b[49m\n\u001b[1;32m    400\u001b[0m \u001b[43m                     \u001b[49m\u001b[43m)\u001b[49m\n",
      "File \u001b[0;32m~/Library/CloudStorage/OneDrive-City,UniversityofLondon/modules/reinforcement_learning/coursework/Collins_Adib_INM707_CW/RobotEnvClass.py:44\u001b[0m, in \u001b[0;36mRobotEnv.__init__\u001b[0;34m(self, dims, rewards, start, end, positions, tubes, walls, max_steps, max_episodes, random_seed)\u001b[0m\n\u001b[1;32m     42\u001b[0m \u001b[38;5;66;03m# initialize the grid, R_matrix and Q_matrix\u001b[39;00m\n\u001b[1;32m     43\u001b[0m \u001b[38;5;28mself\u001b[39m\u001b[38;5;241m.\u001b[39m_initialize_grid()\n\u001b[0;32m---> 44\u001b[0m \u001b[38;5;28;43mself\u001b[39;49m\u001b[38;5;241;43m.\u001b[39;49m\u001b[43m_initialize_R_matrix\u001b[49m\u001b[43m(\u001b[49m\u001b[43m)\u001b[49m\n\u001b[1;32m     45\u001b[0m \u001b[38;5;28mself\u001b[39m\u001b[38;5;241m.\u001b[39m_initialize_Q_matrix()\n\u001b[1;32m     47\u001b[0m \u001b[38;5;28mself\u001b[39m\u001b[38;5;241m.\u001b[39mrng \u001b[38;5;241m=\u001b[39m np\u001b[38;5;241m.\u001b[39mrandom\u001b[38;5;241m.\u001b[39mdefault_rng(random_seed)\n",
      "File \u001b[0;32m~/Library/CloudStorage/OneDrive-City,UniversityofLondon/modules/reinforcement_learning/coursework/Collins_Adib_INM707_CW/RobotEnvClass.py:225\u001b[0m, in \u001b[0;36mRobotEnv._initialize_R_matrix\u001b[0;34m(self)\u001b[0m\n\u001b[1;32m    223\u001b[0m \u001b[38;5;28mself\u001b[39m\u001b[38;5;241m.\u001b[39m__fillPossibleActions()\n\u001b[1;32m    224\u001b[0m \u001b[38;5;28mself\u001b[39m\u001b[38;5;241m.\u001b[39m__initializeTunnels()\n\u001b[0;32m--> 225\u001b[0m \u001b[38;5;28;43mself\u001b[39;49m\u001b[38;5;241;43m.\u001b[39;49m\u001b[43m__initializeCogs\u001b[49m\u001b[43m(\u001b[49m\u001b[43m)\u001b[49m\n\u001b[1;32m    226\u001b[0m \u001b[38;5;28mself\u001b[39m\u001b[38;5;241m.\u001b[39m__initializePonds()\n\u001b[1;32m    227\u001b[0m \u001b[38;5;28mself\u001b[39m\u001b[38;5;241m.\u001b[39m__initializeCroissants()\n",
      "File \u001b[0;32m~/Library/CloudStorage/OneDrive-City,UniversityofLondon/modules/reinforcement_learning/coursework/Collins_Adib_INM707_CW/RobotEnvClass.py:299\u001b[0m, in \u001b[0;36mRobotEnv.__initializeCogs\u001b[0;34m(self)\u001b[0m\n\u001b[1;32m    296\u001b[0m     cogs \u001b[38;5;241m=\u001b[39m \u001b[38;5;28mself\u001b[39m\u001b[38;5;241m.\u001b[39mmove_to(cogs, cog)\n\u001b[1;32m    298\u001b[0m cogs \u001b[38;5;241m=\u001b[39m \u001b[38;5;28mtuple\u001b[39m(\u001b[38;5;28mzip\u001b[39m(\u001b[38;5;241m*\u001b[39mcogs))\n\u001b[0;32m--> 299\u001b[0m \u001b[38;5;28mself\u001b[39m\u001b[38;5;241m.\u001b[39m_R[cogs] \u001b[38;5;241m=\u001b[39m \u001b[38;5;28mself\u001b[39m\u001b[38;5;241m.\u001b[39m_rewards[\u001b[38;5;124m'\u001b[39m\u001b[38;5;124mr_cogs\u001b[39m\u001b[38;5;124m'\u001b[39m]\n",
      "\u001b[0;31mIndexError\u001b[0m: index 43 is out of bounds for axis 1 with size 42"
     ]
    }
   ],
   "source": [
    "q_learning = Q_Learning(dims=(7,6))\n",
    "st = q_learning.visualise_world()\n",
    "print(st)"
   ]
  },
  {
   "cell_type": "code",
   "execution_count": null,
   "id": "1e4d5889-4c34-4e9b-9772-369a15f72a66",
   "metadata": {},
   "outputs": [],
   "source": []
  }
 ],
 "metadata": {
  "kernelspec": {
   "display_name": "Python 3 (ipykernel)",
   "language": "python",
   "name": "python3"
  },
  "language_info": {
   "codemirror_mode": {
    "name": "ipython",
    "version": 3
   },
   "file_extension": ".py",
   "mimetype": "text/x-python",
   "name": "python",
   "nbconvert_exporter": "python",
   "pygments_lexer": "ipython3",
   "version": "3.10.4"
  }
 },
 "nbformat": 4,
 "nbformat_minor": 5
}
